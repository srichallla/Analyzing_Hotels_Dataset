{
 "cells": [
  {
   "cell_type": "code",
   "execution_count": 1,
   "metadata": {},
   "outputs": [
    {
     "name": "stdout",
     "output_type": "stream",
     "text": [
      "<class 'pandas.core.frame.DataFrame'>\n",
      "RangeIndex: 811 entries, 0 to 810\n",
      "Data columns (total 7 columns):\n",
      " #   Column        Non-Null Count  Dtype  \n",
      "---  ------        --------------  -----  \n",
      " 0   Index         811 non-null    int64  \n",
      " 1   BI_RADS       809 non-null    float64\n",
      " 2   Age           723 non-null    float64\n",
      " 3   Shape         781 non-null    object \n",
      " 4   Margin        764 non-null    object \n",
      " 5   Mass_Density  735 non-null    object \n",
      " 6   Severity      811 non-null    int64  \n",
      "dtypes: float64(2), int64(2), object(3)\n",
      "memory usage: 44.5+ KB\n",
      "None\n"
     ]
    },
    {
     "data": {
      "text/html": [
       "<div>\n",
       "<style scoped>\n",
       "    .dataframe tbody tr th:only-of-type {\n",
       "        vertical-align: middle;\n",
       "    }\n",
       "\n",
       "    .dataframe tbody tr th {\n",
       "        vertical-align: top;\n",
       "    }\n",
       "\n",
       "    .dataframe thead th {\n",
       "        text-align: right;\n",
       "    }\n",
       "</style>\n",
       "<table border=\"1\" class=\"dataframe\">\n",
       "  <thead>\n",
       "    <tr style=\"text-align: right;\">\n",
       "      <th></th>\n",
       "      <th>Index</th>\n",
       "      <th>BI_RADS</th>\n",
       "      <th>Age</th>\n",
       "      <th>Shape</th>\n",
       "      <th>Margin</th>\n",
       "      <th>Mass_Density</th>\n",
       "      <th>Severity</th>\n",
       "    </tr>\n",
       "  </thead>\n",
       "  <tbody>\n",
       "    <tr>\n",
       "      <th>0</th>\n",
       "      <td>1</td>\n",
       "      <td>5.0</td>\n",
       "      <td>67.0</td>\n",
       "      <td>3.0</td>\n",
       "      <td>5.0</td>\n",
       "      <td>3.0</td>\n",
       "      <td>1</td>\n",
       "    </tr>\n",
       "    <tr>\n",
       "      <th>1</th>\n",
       "      <td>2</td>\n",
       "      <td>4.0</td>\n",
       "      <td>43.0</td>\n",
       "      <td>NaN</td>\n",
       "      <td>1.0</td>\n",
       "      <td>NaN</td>\n",
       "      <td>1</td>\n",
       "    </tr>\n",
       "    <tr>\n",
       "      <th>2</th>\n",
       "      <td>3</td>\n",
       "      <td>5.0</td>\n",
       "      <td>58.0</td>\n",
       "      <td>4.0</td>\n",
       "      <td>5.0</td>\n",
       "      <td>3.0</td>\n",
       "      <td>1</td>\n",
       "    </tr>\n",
       "    <tr>\n",
       "      <th>3</th>\n",
       "      <td>4</td>\n",
       "      <td>4.0</td>\n",
       "      <td>28.0</td>\n",
       "      <td>NaN</td>\n",
       "      <td>1.0</td>\n",
       "      <td>3.0</td>\n",
       "      <td>0</td>\n",
       "    </tr>\n",
       "    <tr>\n",
       "      <th>4</th>\n",
       "      <td>5</td>\n",
       "      <td>5.0</td>\n",
       "      <td>74.0</td>\n",
       "      <td>NaN</td>\n",
       "      <td>5.0</td>\n",
       "      <td>NaN</td>\n",
       "      <td>1</td>\n",
       "    </tr>\n",
       "  </tbody>\n",
       "</table>\n",
       "</div>"
      ],
      "text/plain": [
       "   Index  BI_RADS   Age  Shape  Margin  Mass_Density  Severity\n",
       "0      1      5.0  67.0    3.0     5.0           3.0         1\n",
       "1      2      4.0  43.0    NaN     1.0           NaN         1\n",
       "2      3      5.0  58.0    4.0     5.0           3.0         1\n",
       "3      4      4.0  28.0    NaN     1.0           3.0         0\n",
       "4      5      5.0  74.0    NaN     5.0           NaN         1"
      ]
     },
     "execution_count": 1,
     "metadata": {},
     "output_type": "execute_result"
    }
   ],
   "source": [
    "import pandas as pd\n",
    "import numpy as np\n",
    "import matplotlib.pyplot as plt\n",
    "import seaborn as sns\n",
    "from sklearn.preprocessing import OrdinalEncoder\n",
    "from sklearn.impute import KNNImputer\n",
    "\n",
    "df_train = pd.read_excel('Untitled Folder/train.xlsx', sheet_name='Sheet1')\n",
    "print(df_train.info()) # (811,7)\n",
    "\n",
    "#Load Test dataset\n",
    "df_test = pd.read_excel('Untitled Folder/test.xlsx', sheet_name='Sheet1') # (150,7) \n",
    "\n",
    "# Drop rows with 2 or more columns missing, as there are few features it may be hard\n",
    "# to predict more than one missing value accurately in a cloumn.\n",
    "df_train.dropna(thresh=5,inplace=True) # (807, 7)\n",
    "df_test.dropna(thresh=5,inplace=True)\n",
    "\n",
    "#Mapping categorical text features to numeric called encoding\n",
    "shape_mapping = {'round=':1,'oval':2,'lobular':3,'irregular':4}\n",
    "margin_mapping = {'circumscribed':1, 'microlobulated':2, 'obscured':3, 'ill-defined':4, 'spiculated':5}\n",
    "density_mapping = {'high':1, 'iso':2, 'low':3, 'fat-containing':4}  \n",
    "\n",
    "df_train['Shape'] = df_train['Shape'].map(shape_mapping)\n",
    "df_train['Margin'] = df_train['Margin'].map(margin_mapping)\n",
    "df_train['Mass_Density'] = df_train['Mass_Density'].map(density_mapping)\n",
    "\n",
    "df_test['Shape'] = df_test['Shape'].map(shape_mapping)\n",
    "df_test['Margin'] = df_test['Margin'].map(margin_mapping)\n",
    "df_test['Mass_Density'] = df_test['Mass_Density'].map(density_mapping)\n",
    "\n",
    "df_train.head()\n"
   ]
  },
  {
   "cell_type": "markdown",
   "metadata": {},
   "source": [
    "# Univariate Analysis\n"
   ]
  },
  {
   "cell_type": "code",
   "execution_count": 2,
   "metadata": {},
   "outputs": [
    {
     "name": "stdout",
     "output_type": "stream",
     "text": [
      "count    722.000000\n",
      "mean      55.873961\n",
      "std       16.894120\n",
      "min        5.000000\n",
      "25%       45.000000\n",
      "50%       56.000000\n",
      "75%       66.000000\n",
      "max      130.000000\n",
      "Name: Age, dtype: float64\n"
     ]
    },
    {
     "data": {
      "text/plain": [
       "<matplotlib.axes._subplots.AxesSubplot at 0x20a78ac5b48>"
      ]
     },
     "execution_count": 2,
     "metadata": {},
     "output_type": "execute_result"
    },
    {
     "data": {
      "image/png": "[encoded data removed]",
      "text/plain": [
       "<Figure size 432x288 with 1 Axes>"
      ]
     },
     "metadata": {
      "needs_background": "light"
     },
     "output_type": "display_data"
    }
   ],
   "source": [
    "# Univariate Analysis of  Age\n",
    "print(df_train.Age.describe())\n",
    "# Age Histogram\n",
    "sns.distplot(df_train['Age'])\n",
    "\n",
    "# Age: Max value is 130 which seems to be an outlier. 5 is the min age. Age looks to be normally distributed.\n"
   ]
  },
  {
   "cell_type": "code",
   "execution_count": 3,
   "metadata": {},
   "outputs": [
    {
     "data": {
      "image/png": "[encoded data removed]",
      "text/plain": [
       "<Figure size 432x288 with 1 Axes>"
      ]
     },
     "metadata": {
      "needs_background": "light"
     },
     "output_type": "display_data"
    }
   ],
   "source": [
    "# Age Box-Plot\n",
    "sns.boxplot( y=df_train[\"Age\"] );"
   ]
  },
  {
   "cell_type": "code",
   "execution_count": 4,
   "metadata": {},
   "outputs": [
    {
     "name": "stdout",
     "output_type": "stream",
     "text": [
      "col_0    count\n",
      "BI_RADS       \n",
      "0.0          3\n",
      "2.0         13\n",
      "3.0         34\n",
      "4.0        437\n",
      "5.0        310\n",
      "6.0          8\n",
      "55.0         1\n"
     ]
    },
    {
     "data": {
      "text/plain": [
       "<matplotlib.axes._subplots.AxesSubplot at 0x20a7b2c1208>"
      ]
     },
     "execution_count": 4,
     "metadata": {},
     "output_type": "execute_result"
    },
    {
     "data": {
      "image/png": "[encoded data removed]",
      "text/plain": [
       "<Figure size 432x288 with 1 Axes>"
      ]
     },
     "metadata": {
      "needs_background": "light"
     },
     "output_type": "display_data"
    }
   ],
   "source": [
    "# Univariate Analysis of BI_RADS categorical variable\n",
    "# frequency tables (also known as crosstabs) \n",
    "freqtable_BIRADS = pd.crosstab(index = df_train['BI_RADS'],  # Make a crosstab\n",
    "                              columns=\"count\")      # Name the count column\n",
    "print(freqtable_BIRADS)\n",
    "\n",
    "# barchart for visualaization of categorical variable\n",
    "sns.countplot(df_train['BI_RADS']) \n",
    "\n",
    "#BI_RADS: 7 diecrete values, 55 is having only one value, could be data entry issue or a possible outlier"
   ]
  },
  {
   "cell_type": "code",
   "execution_count": 5,
   "metadata": {},
   "outputs": [
    {
     "name": "stdout",
     "output_type": "stream",
     "text": [
      "col_0  count\n",
      "Shape       \n",
      "2.0      175\n",
      "3.0       72\n",
      "4.0      340\n"
     ]
    },
    {
     "data": {
      "text/plain": [
       "<matplotlib.axes._subplots.AxesSubplot at 0x20a7b3456c8>"
      ]
     },
     "execution_count": 5,
     "metadata": {},
     "output_type": "execute_result"
    },
    {
     "data": {
      "image/png": "[encoded data removed]",
      "text/plain": [
       "<Figure size 432x288 with 1 Axes>"
      ]
     },
     "metadata": {
      "needs_background": "light"
     },
     "output_type": "display_data"
    }
   ],
   "source": [
    "# Univariate Analysis of Shape categorical variable\n",
    "# frequency tables (also known as crosstabs) \n",
    "freqtable_Shape = pd.crosstab(index = df_train['Shape'],  # Make a crosstab\n",
    "                              columns=\"count\")      # Name the count column\n",
    "print(freqtable_Shape)\n",
    "\n",
    "# barchart for visualaization of categorical variable\n",
    "sns.countplot(df_train['Shape']) \n",
    "\n",
    "#Shape: 3 discrete values "
   ]
  },
  {
   "cell_type": "code",
   "execution_count": 6,
   "metadata": {},
   "outputs": [
    {
     "name": "stdout",
     "output_type": "stream",
     "text": [
      "col_0   count\n",
      "Margin       \n",
      "1.0       298\n",
      "2.0        17\n",
      "3.0        97\n",
      "4.0       236\n",
      "5.0       116\n"
     ]
    },
    {
     "data": {
      "text/plain": [
       "<matplotlib.axes._subplots.AxesSubplot at 0x20a7b3c18c8>"
      ]
     },
     "execution_count": 6,
     "metadata": {},
     "output_type": "execute_result"
    },
    {
     "data": {
      "image/png": "[encoded data removed]",
      "text/plain": [
       "<Figure size 432x288 with 1 Axes>"
      ]
     },
     "metadata": {
      "needs_background": "light"
     },
     "output_type": "display_data"
    }
   ],
   "source": [
    "# Univariate Analysis of Margin categorical variable\n",
    "#https://towardsdatascience.com/the-search-for-categorical-correlation-a1cf7f1888c9\n",
    "# frequency tables (also known as crosstabs) \n",
    "freqtable_Margin = pd.crosstab(index = df_train['Margin'],  # Make a crosstab\n",
    "                              columns=\"count\")      # Name the count column\n",
    "print(freqtable_Margin)\n",
    "\n",
    "# barchart for visualaization of categorical variable\n",
    "sns.countplot(df_train['Margin']) \n",
    "\n",
    "#Margin: 5 discrete values "
   ]
  },
  {
   "cell_type": "code",
   "execution_count": 7,
   "metadata": {},
   "outputs": [
    {
     "name": "stdout",
     "output_type": "stream",
     "text": [
      "col_0         count\n",
      "Mass_Density       \n",
      "1.0              12\n",
      "2.0              49\n",
      "3.0             662\n",
      "4.0              10\n"
     ]
    },
    {
     "data": {
      "text/plain": [
       "<matplotlib.axes._subplots.AxesSubplot at 0x20a7aa17088>"
      ]
     },
     "execution_count": 7,
     "metadata": {},
     "output_type": "execute_result"
    },
    {
     "data": {
      "image/png": "[encoded data removed]",
      "text/plain": [
       "<Figure size 432x288 with 1 Axes>"
      ]
     },
     "metadata": {
      "needs_background": "light"
     },
     "output_type": "display_data"
    }
   ],
   "source": [
    "# Univariate Analysis of Mass_Density categorical variable\n",
    "# frequency tables (also known as crosstabs) \n",
    "freqtable_Mass_Density = pd.crosstab(index = df_train['Mass_Density'],  # Make a crosstab\n",
    "                              columns=\"count\")      # Name the count column\n",
    "print(freqtable_Mass_Density)\n",
    "\n",
    "# barchart for visualaization of categorical variable\n",
    "sns.countplot(df_train['Mass_Density']) \n",
    "\n",
    "#Mass_Density: 4 discrete values "
   ]
  },
  {
   "cell_type": "markdown",
   "metadata": {},
   "source": [
    "# BI-variate Analysis between two categorical variables predictor vs target"
   ]
  },
  {
   "cell_type": "code",
   "execution_count": 8,
   "metadata": {},
   "outputs": [
    {
     "name": "stdout",
     "output_type": "stream",
     "text": [
      "Severity    0    1\n",
      "BI_RADS           \n",
      "0.0         1    2\n",
      "2.0        12    1\n",
      "3.0        29    5\n",
      "4.0       351   86\n",
      "5.0        38  272\n",
      "6.0         3    5\n",
      "55.0        0    1\n"
     ]
    },
    {
     "data": {
      "text/plain": [
       "<matplotlib.axes._subplots.AxesSubplot at 0x20a7aa3e488>"
      ]
     },
     "execution_count": 8,
     "metadata": {},
     "output_type": "execute_result"
    },
    {
     "data": {
      "image/png": "[encoded data removed]",
      "text/plain": [
       "<Figure size 576x576 with 1 Axes>"
      ]
     },
     "metadata": {
      "needs_background": "light"
     },
     "output_type": "display_data"
    }
   ],
   "source": [
    "#BI-variate Analysis between two categorical variables BI_RADS and target Severity\n",
    "\n",
    "#two-way table\n",
    "BIRads_Severity = pd.crosstab(index=df_train[\"BI_RADS\"], \n",
    "                              columns=df_train[\"Severity\"])\n",
    "print(BIRads_Severity)\n",
    "\n",
    "#Stacked Column Chart for visualaization\n",
    "BIRads_Severity.plot(kind=\"bar\", \n",
    "                 figsize=(8,8),\n",
    "                 stacked=True)\n",
    "#Chi-Square statistical Test to determine if two categorical variables are independent or dependent"
   ]
  },
  {
   "cell_type": "code",
   "execution_count": 9,
   "metadata": {},
   "outputs": [
    {
     "name": "stdout",
     "output_type": "stream",
     "text": [
      "dof=6\n",
      "probability=0.950, critical=12.592, stat=362.790\n",
      "Dependent (reject H0)\n"
     ]
    }
   ],
   "source": [
    "#Chi-Square statistical Test to determine if two categorical variables are independent or dependent\n",
    "from scipy.stats import chi2_contingency\n",
    "from scipy.stats import chi2\n",
    "stat, p, dof, expected = chi2_contingency(BIRads_Severity)\n",
    "print('dof=%d' % dof)\n",
    "\n",
    "# interpret test-statistic\n",
    "prob = 0.95\n",
    "critical = chi2.ppf(prob, dof)\n",
    "print('probability=%.3f, critical=%.3f, stat=%.3f' % (prob, critical, stat))\n",
    "\n",
    "if abs(stat) >= critical:\n",
    "   print('Dependent (reject H0)')\n",
    "else:\n",
    "   print('Independent (fail to reject H0)')\n",
    "\n",
    "#Measures used to analyze the power/strength of relationship between two cetagorical varables are:\n",
    "# 1)Cramer’s V for Nominal Categorical Variable\n",
    "# 2)Mantel-Haenszed Chi-Square for ordinal categorical variable.\n"
   ]
  },
  {
   "cell_type": "code",
   "execution_count": 10,
   "metadata": {},
   "outputs": [
    {
     "name": "stdout",
     "output_type": "stream",
     "text": [
      "Severity    0    1\n",
      "Shape             \n",
      "2.0       144   31\n",
      "3.0        41   31\n",
      "4.0        74  266\n"
     ]
    },
    {
     "data": {
      "text/plain": [
       "<matplotlib.axes._subplots.AxesSubplot at 0x20a7b62f488>"
      ]
     },
     "execution_count": 10,
     "metadata": {},
     "output_type": "execute_result"
    },
    {
     "data": {
      "image/png": "[encoded data removed]",
      "text/plain": [
       "<Figure size 576x576 with 1 Axes>"
      ]
     },
     "metadata": {
      "needs_background": "light"
     },
     "output_type": "display_data"
    }
   ],
   "source": [
    "#BI-variate Analysis between two categorical variables Shape and target Severity\n",
    "\n",
    "#two-way table\n",
    "Shape_Severity = pd.crosstab(index=df_train[\"Shape\"], \n",
    "                              columns=df_train[\"Severity\"])\n",
    "print(Shape_Severity)\n",
    "\n",
    "#Stacked Column Chart for visualaization\n",
    "Shape_Severity.plot(kind=\"bar\", \n",
    "                 figsize=(8,8),\n",
    "                 stacked=True)"
   ]
  },
  {
   "cell_type": "code",
   "execution_count": 11,
   "metadata": {},
   "outputs": [
    {
     "name": "stdout",
     "output_type": "stream",
     "text": [
      "dof=2\n",
      "probability=0.950, critical=5.991, stat=177.115\n",
      "Dependent (reject H0)\n"
     ]
    }
   ],
   "source": [
    "#Chi-Square statistical Test to determine if two categorical variables are independent or dependent\n",
    "from scipy.stats import chi2_contingency\n",
    "from scipy.stats import chi2\n",
    "stat, p, dof, expected = chi2_contingency(Shape_Severity)\n",
    "print('dof=%d' % dof)\n",
    "\n",
    "# interpret test-statistic\n",
    "prob = 0.95\n",
    "critical = chi2.ppf(prob, dof)\n",
    "print('probability=%.3f, critical=%.3f, stat=%.3f' % (prob, critical, stat))\n",
    "\n",
    "if abs(stat) >= critical:\n",
    "   print('Dependent (reject H0)')\n",
    "else:\n",
    "   print('Independent (fail to reject H0)')\n",
    "#Measures used to analyze the power/strength of relationship between two cetagorical varables are:\n",
    "# 1)Cramer’s V for Nominal Categorical Variable\n",
    "# 2)Mantel-Haenszed Chi-Square for ordinal categorical variable.\n"
   ]
  },
  {
   "cell_type": "code",
   "execution_count": 12,
   "metadata": {},
   "outputs": [
    {
     "name": "stdout",
     "output_type": "stream",
     "text": [
      "Severity    0    1\n",
      "Margin            \n",
      "1.0       263   35\n",
      "2.0         7   10\n",
      "3.0        37   60\n",
      "4.0        78  158\n",
      "5.0        17   99\n"
     ]
    },
    {
     "data": {
      "text/plain": [
       "<matplotlib.axes._subplots.AxesSubplot at 0x20a7b5219c8>"
      ]
     },
     "execution_count": 12,
     "metadata": {},
     "output_type": "execute_result"
    },
    {
     "data": {
      "image/png": "[encoded data removed]",
      "text/plain": [
       "<Figure size 576x576 with 1 Axes>"
      ]
     },
     "metadata": {
      "needs_background": "light"
     },
     "output_type": "display_data"
    }
   ],
   "source": [
    "#BI-variate Analysis between two categorical variables Shape and target Severity\n",
    "\n",
    "#two-way table\n",
    "Margin_Severity = pd.crosstab(index=df_train[\"Margin\"], \n",
    "                              columns=df_train[\"Severity\"])\n",
    "print(Margin_Severity)\n",
    "\n",
    "#Stacked Column Chart for visualaization\n",
    "Margin_Severity.plot(kind=\"bar\", \n",
    "                 figsize=(8,8),\n",
    "                 stacked=True)"
   ]
  },
  {
   "cell_type": "code",
   "execution_count": 13,
   "metadata": {},
   "outputs": [
    {
     "name": "stdout",
     "output_type": "stream",
     "text": [
      "dof=4\n",
      "probability=0.950, critical=9.488, stat=264.140\n",
      "Dependent (reject H0)\n"
     ]
    }
   ],
   "source": [
    "#Chi-Square statistical Test to determine if two categorical variables are independent or dependent\n",
    "from scipy.stats import chi2_contingency\n",
    "from scipy.stats import chi2\n",
    "stat, p, dof, expected = chi2_contingency(Margin_Severity)\n",
    "print('dof=%d' % dof)\n",
    "\n",
    "# interpret test-statistic\n",
    "prob = 0.95\n",
    "critical = chi2.ppf(prob, dof)\n",
    "print('probability=%.3f, critical=%.3f, stat=%.3f' % (prob, critical, stat))\n",
    "\n",
    "if abs(stat) >= critical:\n",
    "   print('Dependent (reject H0)')\n",
    "else:\n",
    "   print('Independent (fail to reject H0)')\n",
    "#Measures used to analyze the power/strength of relationship between two cetagorical varables are:\n",
    "# 1)Cramer’s V for Nominal Categorical Variable\n",
    "# 2)Mantel-Haenszed Chi-Square for ordinal categorical variable.\n"
   ]
  },
  {
   "cell_type": "code",
   "execution_count": 14,
   "metadata": {},
   "outputs": [
    {
     "name": "stdout",
     "output_type": "stream",
     "text": [
      "Severity        0    1\n",
      "Mass_Density          \n",
      "1.0             8    4\n",
      "2.0            35   14\n",
      "3.0           333  329\n",
      "4.0             7    3\n"
     ]
    },
    {
     "data": {
      "text/plain": [
       "<matplotlib.axes._subplots.AxesSubplot at 0x20a7b5a9ac8>"
      ]
     },
     "execution_count": 14,
     "metadata": {},
     "output_type": "execute_result"
    },
    {
     "data": {
      "image/png": "[encoded data removed]",
      "text/plain": [
       "<Figure size 576x576 with 1 Axes>"
      ]
     },
     "metadata": {
      "needs_background": "light"
     },
     "output_type": "display_data"
    }
   ],
   "source": [
    "#BI-variate Analysis between two categorical variables Shape and target Severity\n",
    "\n",
    "#two-way table\n",
    "MassDensity_Severity = pd.crosstab(index=df_train[\"Mass_Density\"], \n",
    "                              columns=df_train[\"Severity\"])\n",
    "print(MassDensity_Severity)\n",
    "\n",
    "#Stacked Column Chart for visualaization\n",
    "MassDensity_Severity.plot(kind=\"bar\", \n",
    "                 figsize=(8,8),\n",
    "                 stacked=True)"
   ]
  },
  {
   "cell_type": "code",
   "execution_count": 15,
   "metadata": {},
   "outputs": [
    {
     "name": "stdout",
     "output_type": "stream",
     "text": [
      "dof=3\n",
      "probability=0.950, critical=7.815, stat=10.493\n",
      "Dependent (reject H0)\n"
     ]
    }
   ],
   "source": [
    "#Chi-Square statistical Test to determine if two categorical variables are independent or dependent\n",
    "from scipy.stats import chi2_contingency\n",
    "from scipy.stats import chi2\n",
    "stat, p, dof, expected = chi2_contingency(MassDensity_Severity)\n",
    "print('dof=%d' % dof)\n",
    "\n",
    "# interpret test-statistic\n",
    "prob = 0.95\n",
    "critical = chi2.ppf(prob, dof)\n",
    "print('probability=%.3f, critical=%.3f, stat=%.3f' % (prob, critical, stat))\n",
    "\n",
    "if abs(stat) >= critical:\n",
    "   print('Dependent (reject H0)')\n",
    "else:\n",
    "   print('Independent (fail to reject H0)')\n",
    "#Measures used to analyze the power/strength of relationship between two cetagorical varables are:\n",
    "# 1)Cramer’s V for Nominal Categorical Variable\n",
    "# 2)Mantel-Haenszed Chi-Square for ordinal categorical variable.\n"
   ]
  },
  {
   "cell_type": "markdown",
   "metadata": {},
   "source": [
    "# Handling Outliers"
   ]
  },
  {
   "cell_type": "code",
   "execution_count": 16,
   "metadata": {},
   "outputs": [
    {
     "data": {
      "text/plain": [
       "count    722.000000\n",
       "mean      55.873961\n",
       "std       16.894120\n",
       "min        5.000000\n",
       "25%       45.000000\n",
       "50%       56.000000\n",
       "75%       66.000000\n",
       "max      130.000000\n",
       "Name: Age, dtype: float64"
      ]
     },
     "execution_count": 16,
     "metadata": {},
     "output_type": "execute_result"
    }
   ],
   "source": [
    "df_train.Age.describe()"
   ]
  },
  {
   "cell_type": "code",
   "execution_count": 17,
   "metadata": {},
   "outputs": [
    {
     "data": {
      "text/plain": [
       "<matplotlib.axes._subplots.AxesSubplot at 0x20a7b67bdc8>"
      ]
     },
     "execution_count": 17,
     "metadata": {},
     "output_type": "execute_result"
    },
    {
     "data": {
      "image/png": "[encoded data removed]",
      "text/plain": [
       "<Figure size 432x288 with 1 Axes>"
      ]
     },
     "metadata": {
      "needs_background": "light"
     },
     "output_type": "display_data"
    }
   ],
   "source": [
    "sns.boxplot(x=df_train.Age, orient=\"v\")\n",
    "# Age 130 is an outlier, rarely at age 5 cancer can occur, so assuming these two are outliers we \n",
    "#will handle outliers before binning and converting Age to categorical value."
   ]
  },
  {
   "cell_type": "code",
   "execution_count": 18,
   "metadata": {},
   "outputs": [
    {
     "data": {
      "image/png": "[encoded data removed]",
      "text/plain": [
       "<Figure size 432x288 with 1 Axes>"
      ]
     },
     "metadata": {
      "needs_background": "light"
     },
     "output_type": "display_data"
    }
   ],
   "source": [
    "q3 = df_train.Age.quantile(.75)\n",
    "q1 = df_train.Age.quantile(.25)\n",
    "iqr = q3 - q1\n",
    "lower_bound = q1 - (iqr * 1.5)\n",
    "upper_bound = q3 + (iqr * 1.5)\n",
    "#DF without outliers in price\n",
    "df_train = df_train[~((df_train.Age > upper_bound) | (df_train.Age < lower_bound))]\n",
    "\n",
    "sns.boxplot(x=df_train.Age, orient=\"v\")\n",
    "#As you can see below there are no more outliers in Price for train dataset\n",
    "\n",
    "#Remove Age outliers from test dataset\n",
    "q3 = df_test.Age.quantile(.75)\n",
    "q1 = df_test.Age.quantile(.25)\n",
    "iqr = q3 - q1\n",
    "lower_bound = q1 - (iqr * 1.5)\n",
    "upper_bound = q3 + (iqr * 1.5)\n",
    "#DF without outliers in price\n",
    "df_test = df_test[~((df_test.Age > upper_bound) | (df_test.Age < lower_bound))]\n"
   ]
  },
  {
   "cell_type": "markdown",
   "metadata": {},
   "source": [
    "# Feature Engineering"
   ]
  },
  {
   "cell_type": "code",
   "execution_count": 19,
   "metadata": {},
   "outputs": [],
   "source": [
    "#Binning Age to convert it in to Categorical feature\n",
    "#add a new AgeBand category column next to the age group. \n",
    "category = pd.cut(df_train.Age,bins=[10,25,40,55,70,85,100],labels=[0,1,2,3,4,5])\n",
    "df_train.insert(6,'AgeBand',category)\n",
    "df_train.head()\n",
    "\n",
    "category_test = pd.cut(df_test.Age,bins=[10,25,40,55,70,85,100],labels=[0,1,2,3,4,5])\n",
    "df_test.insert(6,'AgeBand',category_test)"
   ]
  },
  {
   "cell_type": "markdown",
   "metadata": {},
   "source": [
    "# BI-variate Analysis"
   ]
  },
  {
   "cell_type": "code",
   "execution_count": 20,
   "metadata": {},
   "outputs": [
    {
     "name": "stdout",
     "output_type": "stream",
     "text": [
      "Severity    0    1\n",
      "AgeBand           \n",
      "0          21    0\n",
      "1          74   13\n",
      "2         148   80\n",
      "3         118  152\n",
      "4          20   74\n",
      "5           0    7\n"
     ]
    },
    {
     "data": {
      "text/plain": [
       "<matplotlib.axes._subplots.AxesSubplot at 0x20a7b75ca08>"
      ]
     },
     "execution_count": 20,
     "metadata": {},
     "output_type": "execute_result"
    },
    {
     "data": {
      "image/png": "[encoded data removed]",
      "text/plain": [
       "<Figure size 576x576 with 1 Axes>"
      ]
     },
     "metadata": {
      "needs_background": "light"
     },
     "output_type": "display_data"
    }
   ],
   "source": [
    "#BI-variate Analysis between two categorical variables AgeBand and target Severity\n",
    "\n",
    "#two-way table\n",
    "AgeBand_Severity = pd.crosstab(index=df_train[\"AgeBand\"], \n",
    "                              columns=df_train[\"Severity\"])\n",
    "print(AgeBand_Severity)\n",
    "\n",
    "#Stacked Column Chart for visualaization\n",
    "AgeBand_Severity.plot(kind=\"bar\", \n",
    "                 figsize=(8,8),\n",
    "                 stacked=True)\n",
    "\n",
    "# Higher aged people are more proned to cancers"
   ]
  },
  {
   "cell_type": "code",
   "execution_count": 21,
   "metadata": {},
   "outputs": [
    {
     "name": "stdout",
     "output_type": "stream",
     "text": [
      "dof=5\n",
      "probability=0.950, critical=11.070, stat=122.818\n",
      "Dependent (reject H0)\n"
     ]
    }
   ],
   "source": [
    "#Chi-Square statistical Test to determine if two categorical variables are independent or dependent\n",
    "from scipy.stats import chi2_contingency\n",
    "from scipy.stats import chi2\n",
    "stat, p, dof, expected = chi2_contingency(AgeBand_Severity)\n",
    "print('dof=%d' % dof)\n",
    "\n",
    "# interpret test-statistic\n",
    "prob = 0.95\n",
    "critical = chi2.ppf(prob, dof)\n",
    "print('probability=%.3f, critical=%.3f, stat=%.3f' % (prob, critical, stat))\n",
    "\n",
    "if abs(stat) >= critical:\n",
    "   print('Dependent (reject H0)')\n",
    "else:\n",
    "   print('Independent (fail to reject H0)')\n",
    "#Measures used to analyze the power/strength of relationship between two cetagorical varables are:\n",
    "# 1)Cramer’s V for Nominal Categorical Variable\n",
    "# 2)Mantel-Haenszed Chi-Square for ordinal categorical variable.\n"
   ]
  },
  {
   "cell_type": "code",
   "execution_count": 22,
   "metadata": {},
   "outputs": [],
   "source": [
    "# Convert to Object\n",
    "df_train['BI_RADS'] = df_train['BI_RADS'].astype(object)\n",
    "df_train['Shape'] = df_train['Shape'].astype(object)\n",
    "df_train['Margin'] = df_train['Margin'].astype(object)\n",
    "df_train['Mass_Density'] = df_train['Mass_Density'].astype(object)\n",
    "df_train['AgeBand'] = df_train['AgeBand'].astype(object)\n",
    "\n",
    "df_train.dtypes\n",
    "\n",
    "df_test['BI_RADS'] = df_test['BI_RADS'].astype(object)\n",
    "df_test['Shape'] = df_test['Shape'].astype(object)\n",
    "df_test['Margin'] = df_test['Margin'].astype(object)\n",
    "df_test['Mass_Density'] = df_test['Mass_Density'].astype(object)\n",
    "df_test['AgeBand'] = df_test['AgeBand'].astype(object)"
   ]
  },
  {
   "cell_type": "markdown",
   "metadata": {},
   "source": [
    "# Missing Value Treatment"
   ]
  },
  {
   "cell_type": "code",
   "execution_count": 23,
   "metadata": {},
   "outputs": [
    {
     "name": "stdout",
     "output_type": "stream",
     "text": [
      "<class 'pandas.core.frame.DataFrame'>\n",
      "RangeIndex: 792 entries, 0 to 791\n",
      "Data columns (total 8 columns):\n",
      " #   Column        Non-Null Count  Dtype  \n",
      "---  ------        --------------  -----  \n",
      " 0   Index         792 non-null    float64\n",
      " 1   BI_RADS       792 non-null    float64\n",
      " 2   Age           792 non-null    float64\n",
      " 3   Shape         792 non-null    float64\n",
      " 4   Margin        792 non-null    float64\n",
      " 5   Mass_Density  792 non-null    float64\n",
      " 6   AgeBand       792 non-null    float64\n",
      " 7   Severity      792 non-null    float64\n",
      "dtypes: float64(8)\n",
      "memory usage: 49.6 KB\n"
     ]
    }
   ],
   "source": [
    "imputer = KNNImputer()\n",
    "df_train = pd.DataFrame(np.round(imputer.fit_transform(df_train)),columns = df_train.columns)\n",
    "df_train.info()\n",
    "\n",
    "#Impute test set\n",
    "df_test = pd.DataFrame(np.round(imputer.fit_transform(df_test)),columns = df_test.columns)"
   ]
  },
  {
   "cell_type": "code",
   "execution_count": 24,
   "metadata": {},
   "outputs": [
    {
     "name": "stdout",
     "output_type": "stream",
     "text": [
      "Severity  0.0  1.0\n",
      "BI_RADS           \n",
      "1.0         4    8\n",
      "2.0        12    1\n",
      "3.0        29    5\n",
      "4.0       347   86\n",
      "5.0        36  264\n"
     ]
    },
    {
     "data": {
      "text/plain": [
       "<matplotlib.axes._subplots.AxesSubplot at 0x20a7b7ff748>"
      ]
     },
     "execution_count": 24,
     "metadata": {},
     "output_type": "execute_result"
    },
    {
     "data": {
      "image/png": "[encoded data removed]",
      "text/plain": [
       "<Figure size 432x288 with 1 Axes>"
      ]
     },
     "metadata": {
      "needs_background": "light"
     },
     "output_type": "display_data"
    }
   ],
   "source": [
    "# BI_RADS should be 1 to 5, but here we have 0.0,6.0,55.0 there could be a data collection issue.\n",
    "#Even though 55 coluld be a possible outlier, I will map all of them to 1.0 as it is missing\n",
    "# BI_RADS as per the specification should be from 1 to 5 ordinal data so order is important, but we have 0,and 6. So assuming\n",
    "#data issue #0s can be replaced to 1, and 6 can be repalced by 5.\n",
    "\n",
    "# But Bi_RADS from (2 to 5) has many rows, so replacing 0,6,55 with 1\n",
    "df_train.loc[(df_train[\"BI_RADS\"] == 0.0) | (df_train[\"BI_RADS\"] == 6.0) | (df_train[\"BI_RADS\"] == 55.0), 'BI_RADS' ] = 1.0\n",
    "\n",
    "df_test.loc[(df_test[\"BI_RADS\"] == 0.0) | (df_test[\"BI_RADS\"] == 6.0) | (df_test[\"BI_RADS\"] == 55.0), 'BI_RADS' ] = 1.0\n",
    "\n",
    "#two-way table\n",
    "BIRads_Severity = pd.crosstab(index=df_train[\"BI_RADS\"], \n",
    "                              columns=df_train[\"Severity\"])\n",
    "print(BIRads_Severity)\n",
    "# barchart for visualaization of categorical variable\n",
    "sns.countplot(df_train['BI_RADS'])"
   ]
  },
  {
   "cell_type": "code",
   "execution_count": 25,
   "metadata": {},
   "outputs": [
    {
     "data": {
      "text/plain": [
       "count    792.000000\n",
       "mean      55.337121\n",
       "std       13.506237\n",
       "min       18.000000\n",
       "25%       46.000000\n",
       "50%       56.000000\n",
       "75%       65.000000\n",
       "max       96.000000\n",
       "Name: Age, dtype: float64"
      ]
     },
     "execution_count": 25,
     "metadata": {},
     "output_type": "execute_result"
    }
   ],
   "source": [
    "# Age After outlier treatment and imputing missing values\n",
    "df_train.Age.describe()"
   ]
  },
  {
   "cell_type": "code",
   "execution_count": 26,
   "metadata": {},
   "outputs": [
    {
     "name": "stdout",
     "output_type": "stream",
     "text": [
      "0.0    0.540404\n",
      "1.0    0.459596\n",
      "Name: Severity, dtype: float64\n",
      "(792, 8)\n"
     ]
    }
   ],
   "source": [
    "#Percentage of target variables. Although theres a data imbalance, I think its minimal, so ignoring imbalance handling\n",
    "print(df_train['Severity'].value_counts(normalize=True))\n",
    "print(df_train.shape)\n"
   ]
  },
  {
   "cell_type": "markdown",
   "metadata": {},
   "source": [
    "# BI-variate Analysis between two categorical variables"
   ]
  },
  {
   "cell_type": "code",
   "execution_count": 27,
   "metadata": {},
   "outputs": [
    {
     "name": "stdout",
     "output_type": "stream",
     "text": [
      "BI_RADS  1.0  2.0  3.0  4.0  5.0\n",
      "Shape                           \n",
      "2.0        1    3   13  160   20\n",
      "3.0        3    8   13  139   45\n",
      "4.0        8    2    8  134  235\n"
     ]
    },
    {
     "data": {
      "text/plain": [
       "<matplotlib.axes._subplots.AxesSubplot at 0x20a7b896d08>"
      ]
     },
     "execution_count": 27,
     "metadata": {},
     "output_type": "execute_result"
    },
    {
     "data": {
      "image/png": "[encoded data removed]",
      "text/plain": [
       "<Figure size 576x576 with 1 Axes>"
      ]
     },
     "metadata": {
      "needs_background": "light"
     },
     "output_type": "display_data"
    }
   ],
   "source": [
    "#BI-variate Analysis between two categorical variables BI_RADS and target Severity\n",
    "\n",
    "#two-way table\n",
    "Shape_BIRADS = pd.crosstab(index=df_train[\"Shape\"], \n",
    "                              columns=df_train[\"BI_RADS\"])\n",
    "print(Shape_BIRADS)\n",
    "\n",
    "#Stacked Column Chart for visualaization\n",
    "Shape_BIRADS.plot(kind=\"bar\", \n",
    "                 figsize=(8,8),\n",
    "                 stacked=True)"
   ]
  },
  {
   "cell_type": "code",
   "execution_count": 28,
   "metadata": {},
   "outputs": [
    {
     "name": "stdout",
     "output_type": "stream",
     "text": [
      "dof=8\n",
      "probability=0.950, critical=15.507, stat=187.278\n",
      "Dependent (reject H0)\n"
     ]
    }
   ],
   "source": [
    "#Chi-Square statistical Test to determine if two categorical variables are independent or dependent\n",
    "from scipy.stats import chi2_contingency\n",
    "from scipy.stats import chi2\n",
    "stat, p, dof, expected = chi2_contingency(Shape_BIRADS)\n",
    "print('dof=%d' % dof)\n",
    "\n",
    "# interpret test-statistic\n",
    "prob = 0.95\n",
    "critical = chi2.ppf(prob, dof)\n",
    "print('probability=%.3f, critical=%.3f, stat=%.3f' % (prob, critical, stat))\n",
    "\n",
    "if abs(stat) >= critical:\n",
    "   print('Dependent (reject H0)')\n",
    "else:\n",
    "   print('Independent (fail to reject H0)')"
   ]
  },
  {
   "cell_type": "code",
   "execution_count": 29,
   "metadata": {},
   "outputs": [
    {
     "name": "stdout",
     "output_type": "stream",
     "text": [
      "BI_RADS  1.0  2.0  3.0  4.0  5.0\n",
      "Margin                          \n",
      "1.0        2    8   18  256   11\n",
      "2.0        0    2    1   13   11\n",
      "3.0        4    1    6   51   54\n",
      "4.0        3    2    7   92  134\n",
      "5.0        3    0    2   21   90\n"
     ]
    },
    {
     "data": {
      "text/plain": [
       "<matplotlib.axes._subplots.AxesSubplot at 0x20a7b94c688>"
      ]
     },
     "execution_count": 29,
     "metadata": {},
     "output_type": "execute_result"
    },
    {
     "data": {
      "image/png": "[encoded data removed]",
      "text/plain": [
       "<Figure size 576x576 with 1 Axes>"
      ]
     },
     "metadata": {
      "needs_background": "light"
     },
     "output_type": "display_data"
    }
   ],
   "source": [
    "#BI-variate Analysis between two categorical variables BI_RADS and target Severity\n",
    "\n",
    "#two-way table\n",
    "Margin_BIRADS = pd.crosstab(index=df_train[\"Margin\"], \n",
    "                              columns=df_train[\"BI_RADS\"])\n",
    "print(Margin_BIRADS)\n",
    "\n",
    "#Stacked Column Chart for visualaization\n",
    "Margin_BIRADS.plot(kind=\"bar\", \n",
    "                 figsize=(8,8),\n",
    "                 stacked=True)"
   ]
  },
  {
   "cell_type": "code",
   "execution_count": 30,
   "metadata": {},
   "outputs": [
    {
     "name": "stdout",
     "output_type": "stream",
     "text": [
      "dof=8\n",
      "probability=0.950, critical=15.507, stat=187.278\n",
      "Dependent (reject H0)\n"
     ]
    }
   ],
   "source": [
    "#Chi-Square statistical Test to determine if two categorical variables are independent or dependent\n",
    "from scipy.stats import chi2_contingency\n",
    "from scipy.stats import chi2\n",
    "stat, p, dof, expected = chi2_contingency(Shape_BIRADS)\n",
    "print('dof=%d' % dof)\n",
    "\n",
    "# interpret test-statistic\n",
    "prob = 0.95\n",
    "critical = chi2.ppf(prob, dof)\n",
    "print('probability=%.3f, critical=%.3f, stat=%.3f' % (prob, critical, stat))\n",
    "\n",
    "if abs(stat) >= critical:\n",
    "   print('Dependent (reject H0)')\n",
    "else:\n",
    "   print('Independent (fail to reject H0)')"
   ]
  },
  {
   "cell_type": "code",
   "execution_count": 31,
   "metadata": {},
   "outputs": [
    {
     "name": "stdout",
     "output_type": "stream",
     "text": [
      "BI_RADS       1.0  2.0  3.0  4.0  5.0\n",
      "Mass_Density                         \n",
      "1.0             0    1    1    5    5\n",
      "2.0             0    4    2   32   17\n",
      "3.0            12    7   30  394  272\n",
      "4.0             0    1    1    2    6\n"
     ]
    },
    {
     "data": {
      "text/plain": [
       "<matplotlib.axes._subplots.AxesSubplot at 0x20a7b98a1c8>"
      ]
     },
     "execution_count": 31,
     "metadata": {},
     "output_type": "execute_result"
    },
    {
     "data": {
      "image/png": "[encoded data removed]",
      "text/plain": [
       "<Figure size 576x576 with 1 Axes>"
      ]
     },
     "metadata": {
      "needs_background": "light"
     },
     "output_type": "display_data"
    }
   ],
   "source": [
    "#BI-variate Analysis between two categorical variables BI_RADS and target Severity\n",
    "\n",
    "#two-way table\n",
    "MassDensity_BIRADS = pd.crosstab(index=df_train[\"Mass_Density\"], \n",
    "                              columns=df_train[\"BI_RADS\"])\n",
    "print(MassDensity_BIRADS)\n",
    "\n",
    "#Stacked Column Chart for visualaization\n",
    "MassDensity_BIRADS.plot(kind=\"bar\", \n",
    "                 figsize=(8,8),\n",
    "                 stacked=True)"
   ]
  },
  {
   "cell_type": "code",
   "execution_count": 32,
   "metadata": {},
   "outputs": [
    {
     "name": "stdout",
     "output_type": "stream",
     "text": [
      "dof=12\n",
      "probability=0.950, critical=21.026, stat=27.412\n",
      "Dependent (reject H0)\n"
     ]
    }
   ],
   "source": [
    "#Chi-Square statistical Test to determine if two categorical variables are independent or dependent\n",
    "from scipy.stats import chi2_contingency\n",
    "from scipy.stats import chi2\n",
    "stat, p, dof, expected = chi2_contingency(MassDensity_BIRADS)\n",
    "print('dof=%d' % dof)\n",
    "\n",
    "# interpret test-statistic\n",
    "prob = 0.95\n",
    "critical = chi2.ppf(prob, dof)\n",
    "print('probability=%.3f, critical=%.3f, stat=%.3f' % (prob, critical, stat))\n",
    "\n",
    "if abs(stat) >= critical:\n",
    "   print('Dependent (reject H0)')\n",
    "else:\n",
    "   print('Independent (fail to reject H0)')"
   ]
  },
  {
   "cell_type": "code",
   "execution_count": 33,
   "metadata": {},
   "outputs": [
    {
     "data": {
      "text/html": [
       "<div>\n",
       "<style scoped>\n",
       "    .dataframe tbody tr th:only-of-type {\n",
       "        vertical-align: middle;\n",
       "    }\n",
       "\n",
       "    .dataframe tbody tr th {\n",
       "        vertical-align: top;\n",
       "    }\n",
       "\n",
       "    .dataframe thead th {\n",
       "        text-align: right;\n",
       "    }\n",
       "</style>\n",
       "<table border=\"1\" class=\"dataframe\">\n",
       "  <thead>\n",
       "    <tr style=\"text-align: right;\">\n",
       "      <th></th>\n",
       "      <th>BI_RADS</th>\n",
       "      <th>Shape</th>\n",
       "      <th>Margin</th>\n",
       "      <th>Mass_Density</th>\n",
       "      <th>AgeBand</th>\n",
       "    </tr>\n",
       "  </thead>\n",
       "  <tbody>\n",
       "    <tr>\n",
       "      <th>0</th>\n",
       "      <td>5.0</td>\n",
       "      <td>3.0</td>\n",
       "      <td>5.0</td>\n",
       "      <td>3.0</td>\n",
       "      <td>3.0</td>\n",
       "    </tr>\n",
       "    <tr>\n",
       "      <th>1</th>\n",
       "      <td>4.0</td>\n",
       "      <td>3.0</td>\n",
       "      <td>1.0</td>\n",
       "      <td>3.0</td>\n",
       "      <td>2.0</td>\n",
       "    </tr>\n",
       "    <tr>\n",
       "      <th>2</th>\n",
       "      <td>5.0</td>\n",
       "      <td>4.0</td>\n",
       "      <td>5.0</td>\n",
       "      <td>3.0</td>\n",
       "      <td>3.0</td>\n",
       "    </tr>\n",
       "    <tr>\n",
       "      <th>3</th>\n",
       "      <td>4.0</td>\n",
       "      <td>3.0</td>\n",
       "      <td>1.0</td>\n",
       "      <td>3.0</td>\n",
       "      <td>1.0</td>\n",
       "    </tr>\n",
       "    <tr>\n",
       "      <th>4</th>\n",
       "      <td>5.0</td>\n",
       "      <td>3.0</td>\n",
       "      <td>5.0</td>\n",
       "      <td>3.0</td>\n",
       "      <td>4.0</td>\n",
       "    </tr>\n",
       "  </tbody>\n",
       "</table>\n",
       "</div>"
      ],
      "text/plain": [
       "   BI_RADS  Shape  Margin  Mass_Density  AgeBand\n",
       "0      5.0    3.0     5.0           3.0      3.0\n",
       "1      4.0    3.0     1.0           3.0      2.0\n",
       "2      5.0    4.0     5.0           3.0      3.0\n",
       "3      4.0    3.0     1.0           3.0      1.0\n",
       "4      5.0    3.0     5.0           3.0      4.0"
      ]
     },
     "execution_count": 33,
     "metadata": {},
     "output_type": "execute_result"
    }
   ],
   "source": [
    "y_train = df_train.Severity\n",
    "X_train = df_train.drop(['Index','Age','Severity'], axis=1)\n",
    "X_train.head()"
   ]
  },
  {
   "cell_type": "markdown",
   "metadata": {},
   "source": [
    "# Feature selection"
   ]
  },
  {
   "cell_type": "code",
   "execution_count": 34,
   "metadata": {},
   "outputs": [
    {
     "name": "stdout",
     "output_type": "stream",
     "text": [
      "Feature 0: 23.150522\n",
      "Feature 1: 37.056551\n",
      "Feature 2: 205.825253\n",
      "Feature 3: 0.200267\n",
      "Feature 4: 47.908324\n"
     ]
    },
    {
     "data": {
      "image/png": "[encoded data removed]",
      "text/plain": [
       "<Figure size 432x288 with 1 Axes>"
      ]
     },
     "metadata": {
      "needs_background": "light"
     },
     "output_type": "display_data"
    }
   ],
   "source": [
    "#Feature selection using chisquare for bulding a model\n",
    "from sklearn.feature_selection import SelectKBest\n",
    "from sklearn.feature_selection import chi2\n",
    "\n",
    "fs = SelectKBest(score_func=chi2, k='all')\n",
    "fs.fit(X_train, y_train)\n",
    "X_train_fs = fs.transform(X_train)\n",
    "\n",
    "\n",
    "# Scores for the features\n",
    "for i in range(len(fs.scores_)):\n",
    "    print('Feature %d: %f' % (i, fs.scores_[i]))\n",
    "# plot the scores\n",
    "plt.bar([i for i in range(len(fs.scores_))], fs.scores_)\n",
    "plt.show()\n",
    "\n",
    "# We can see that Margin,AgeBand,Shape and BI_RADS are 4 most important variables for predicting the target Severity. \n",
    "#So we will use these 4 for model building and drop \"Mass_Density\""
   ]
  },
  {
   "cell_type": "code",
   "execution_count": 35,
   "metadata": {},
   "outputs": [
    {
     "name": "stdout",
     "output_type": "stream",
     "text": [
      "Index(['BI_RADS', 'Shape', 'Margin', 'AgeBand'], dtype='object')\n"
     ]
    }
   ],
   "source": [
    "#Dropping 'Mass_Density' as we are not using it for building a predictive model\n",
    "X_train.drop(['Mass_Density'], axis=1,inplace=True)\n",
    "print(X_train.columns)\n",
    "\n",
    "    "
   ]
  },
  {
   "cell_type": "code",
   "execution_count": 36,
   "metadata": {},
   "outputs": [
    {
     "data": {
      "text/html": [
       "<div>\n",
       "<style scoped>\n",
       "    .dataframe tbody tr th:only-of-type {\n",
       "        vertical-align: middle;\n",
       "    }\n",
       "\n",
       "    .dataframe tbody tr th {\n",
       "        vertical-align: top;\n",
       "    }\n",
       "\n",
       "    .dataframe thead th {\n",
       "        text-align: right;\n",
       "    }\n",
       "</style>\n",
       "<table border=\"1\" class=\"dataframe\">\n",
       "  <thead>\n",
       "    <tr style=\"text-align: right;\">\n",
       "      <th></th>\n",
       "      <th>BI_RADS</th>\n",
       "      <th>Shape</th>\n",
       "      <th>Margin</th>\n",
       "      <th>AgeBand</th>\n",
       "    </tr>\n",
       "  </thead>\n",
       "  <tbody>\n",
       "    <tr>\n",
       "      <th>0</th>\n",
       "      <td>5.0</td>\n",
       "      <td>3.0</td>\n",
       "      <td>4.0</td>\n",
       "      <td>3.0</td>\n",
       "    </tr>\n",
       "    <tr>\n",
       "      <th>1</th>\n",
       "      <td>5.0</td>\n",
       "      <td>3.0</td>\n",
       "      <td>2.0</td>\n",
       "      <td>4.0</td>\n",
       "    </tr>\n",
       "    <tr>\n",
       "      <th>2</th>\n",
       "      <td>4.0</td>\n",
       "      <td>2.0</td>\n",
       "      <td>1.0</td>\n",
       "      <td>3.0</td>\n",
       "    </tr>\n",
       "    <tr>\n",
       "      <th>3</th>\n",
       "      <td>4.0</td>\n",
       "      <td>4.0</td>\n",
       "      <td>4.0</td>\n",
       "      <td>3.0</td>\n",
       "    </tr>\n",
       "    <tr>\n",
       "      <th>4</th>\n",
       "      <td>4.0</td>\n",
       "      <td>3.0</td>\n",
       "      <td>2.0</td>\n",
       "      <td>4.0</td>\n",
       "    </tr>\n",
       "  </tbody>\n",
       "</table>\n",
       "</div>"
      ],
      "text/plain": [
       "   BI_RADS  Shape  Margin  AgeBand\n",
       "0      5.0    3.0     4.0      3.0\n",
       "1      5.0    3.0     2.0      4.0\n",
       "2      4.0    2.0     1.0      3.0\n",
       "3      4.0    4.0     4.0      3.0\n",
       "4      4.0    3.0     2.0      4.0"
      ]
     },
     "execution_count": 36,
     "metadata": {},
     "output_type": "execute_result"
    }
   ],
   "source": [
    "y_test_actual = df_test.Severity\n",
    "X_test = df_test.drop(['Index','Age','Mass_Density','Severity'], axis=1)\n",
    "X_test.head()"
   ]
  },
  {
   "cell_type": "markdown",
   "metadata": {},
   "source": [
    "# Model Evaluation metrics util\n"
   ]
  },
  {
   "cell_type": "code",
   "execution_count": 37,
   "metadata": {},
   "outputs": [],
   "source": [
    "from sklearn import metrics\n",
    "\n",
    "def get_metrics(true_labels, predicted_labels):\n",
    "    \n",
    "    print('Accuracy:', np.round(\n",
    "                        metrics.accuracy_score(true_labels, \n",
    "                                               predicted_labels),\n",
    "                        4))\n",
    "    print('Precision:', np.round(\n",
    "                        metrics.precision_score(true_labels, \n",
    "                                               predicted_labels,\n",
    "                                               average='weighted'),\n",
    "                        4))\n",
    "    print('Recall:', np.round(\n",
    "                        metrics.recall_score(true_labels, \n",
    "                                               predicted_labels,\n",
    "                                               average='weighted'),\n",
    "                        4))\n",
    "    print('F1 Score:', np.round(\n",
    "                        metrics.f1_score(true_labels, \n",
    "                                               predicted_labels,\n",
    "                                               average='weighted'),\n",
    "                        4))\n",
    "                        \n"
   ]
  },
  {
   "cell_type": "markdown",
   "metadata": {},
   "source": [
    "# Train, Predict & Evaluate Model using Decision Tree"
   ]
  },
  {
   "cell_type": "code",
   "execution_count": 38,
   "metadata": {},
   "outputs": [
    {
     "name": "stdout",
     "output_type": "stream",
     "text": [
      "Accuracy: 0.7891\n",
      "Precision: 0.8118\n",
      "Recall: 0.7891\n",
      "F1 Score: 0.7827\n"
     ]
    }
   ],
   "source": [
    "from sklearn.tree import DecisionTreeClassifier\n",
    "\n",
    "sp_dt = DecisionTreeClassifier() \n",
    "sp_dt.fit(X_train, y_train)\n",
    "\n",
    "sp_dt_predictions = sp_dt.predict(X_test)\n",
    "\n",
    "get_metrics(true_labels=y_test_actual, predicted_labels=sp_dt_predictions)"
   ]
  },
  {
   "cell_type": "markdown",
   "metadata": {},
   "source": [
    "# Train, Predict & Evaluate Model using Logistic Regression\n"
   ]
  },
  {
   "cell_type": "code",
   "execution_count": 39,
   "metadata": {},
   "outputs": [
    {
     "name": "stdout",
     "output_type": "stream",
     "text": [
      "Accuracy: 0.7959\n",
      "Precision: 0.7981\n",
      "Recall: 0.7959\n",
      "F1 Score: 0.7946\n"
     ]
    }
   ],
   "source": [
    "from sklearn.linear_model import LogisticRegression\n",
    "\n",
    "sp_lr = LogisticRegression()\n",
    "sp_lr.fit(X_train, y_train)\n",
    "sp_lr_predictions = sp_lr.predict(X_test)\n",
    "get_metrics(true_labels=y_test_actual, predicted_labels=sp_lr_predictions)"
   ]
  },
  {
   "cell_type": "markdown",
   "metadata": {},
   "source": [
    "# Hyperparameter tuning with Grid Search & Cross Validation for LogisticRegression"
   ]
  },
  {
   "cell_type": "code",
   "execution_count": 40,
   "metadata": {},
   "outputs": [
    {
     "name": "stdout",
     "output_type": "stream",
     "text": [
      "{'C': 1.0, 'class_weight': None, 'dual': False, 'fit_intercept': True, 'intercept_scaling': 1, 'l1_ratio': None, 'max_iter': 100, 'multi_class': 'auto', 'n_jobs': None, 'penalty': 'l2', 'random_state': None, 'solver': 'lbfgs', 'tol': 0.0001, 'verbose': 0, 'warm_start': False}\n"
     ]
    }
   ],
   "source": [
    "from sklearn.model_selection import GridSearchCV\n",
    "print(sp_lr.get_params())"
   ]
  },
  {
   "cell_type": "code",
   "execution_count": 41,
   "metadata": {},
   "outputs": [
    {
     "name": "stderr",
     "output_type": "stream",
     "text": [
      "C:\\ProgramData\\Anaconda3\\lib\\site-packages\\sklearn\\model_selection\\_validation.py:536: FitFailedWarning: Estimator fit failed. The score on this train-test partition for these parameters will be set to nan. Details: \n",
      "ValueError: Solver newton-cg supports only 'l2' or 'none' penalties, got l1 penalty.\n",
      "\n",
      "  FitFailedWarning)\n",
      "C:\\ProgramData\\Anaconda3\\lib\\site-packages\\sklearn\\model_selection\\_validation.py:536: FitFailedWarning: Estimator fit failed. The score on this train-test partition for these parameters will be set to nan. Details: \n",
      "ValueError: Solver lbfgs supports only 'l2' or 'none' penalties, got l1 penalty.\n",
      "\n",
      "  FitFailedWarning)\n",
      "C:\\ProgramData\\Anaconda3\\lib\\site-packages\\sklearn\\model_selection\\_validation.py:536: FitFailedWarning: Estimator fit failed. The score on this train-test partition for these parameters will be set to nan. Details: \n",
      "ValueError: Solver newton-cg supports only 'l2' or 'none' penalties, got elasticnet penalty.\n",
      "\n",
      "  FitFailedWarning)\n",
      "C:\\ProgramData\\Anaconda3\\lib\\site-packages\\sklearn\\model_selection\\_validation.py:536: FitFailedWarning: Estimator fit failed. The score on this train-test partition for these parameters will be set to nan. Details: \n",
      "ValueError: Solver lbfgs supports only 'l2' or 'none' penalties, got elasticnet penalty.\n",
      "\n",
      "  FitFailedWarning)\n",
      "C:\\ProgramData\\Anaconda3\\lib\\site-packages\\sklearn\\model_selection\\_validation.py:536: FitFailedWarning: Estimator fit failed. The score on this train-test partition for these parameters will be set to nan. Details: \n",
      "ValueError: Only 'saga' solver supports elasticnet penalty, got solver=liblinear.\n",
      "\n",
      "  FitFailedWarning)\n",
      "C:\\ProgramData\\Anaconda3\\lib\\site-packages\\sklearn\\model_selection\\_validation.py:536: FitFailedWarning: Estimator fit failed. The score on this train-test partition for these parameters will be set to nan. Details: \n",
      "ValueError: Solver newton-cg supports only 'l2' or 'none' penalties, got l1 penalty.\n",
      "\n",
      "  FitFailedWarning)\n",
      "C:\\ProgramData\\Anaconda3\\lib\\site-packages\\sklearn\\model_selection\\_validation.py:536: FitFailedWarning: Estimator fit failed. The score on this train-test partition for these parameters will be set to nan. Details: \n",
      "ValueError: Solver lbfgs supports only 'l2' or 'none' penalties, got l1 penalty.\n",
      "\n",
      "  FitFailedWarning)\n",
      "C:\\ProgramData\\Anaconda3\\lib\\site-packages\\sklearn\\model_selection\\_validation.py:536: FitFailedWarning: Estimator fit failed. The score on this train-test partition for these parameters will be set to nan. Details: \n",
      "ValueError: Solver newton-cg supports only 'l2' or 'none' penalties, got elasticnet penalty.\n",
      "\n",
      "  FitFailedWarning)\n",
      "C:\\ProgramData\\Anaconda3\\lib\\site-packages\\sklearn\\model_selection\\_validation.py:536: FitFailedWarning: Estimator fit failed. The score on this train-test partition for these parameters will be set to nan. Details: \n",
      "ValueError: Solver lbfgs supports only 'l2' or 'none' penalties, got elasticnet penalty.\n",
      "\n",
      "  FitFailedWarning)\n",
      "C:\\ProgramData\\Anaconda3\\lib\\site-packages\\sklearn\\model_selection\\_validation.py:536: FitFailedWarning: Estimator fit failed. The score on this train-test partition for these parameters will be set to nan. Details: \n",
      "ValueError: Only 'saga' solver supports elasticnet penalty, got solver=liblinear.\n",
      "\n",
      "  FitFailedWarning)\n",
      "C:\\ProgramData\\Anaconda3\\lib\\site-packages\\sklearn\\model_selection\\_validation.py:536: FitFailedWarning: Estimator fit failed. The score on this train-test partition for these parameters will be set to nan. Details: \n",
      "ValueError: Solver newton-cg supports only 'l2' or 'none' penalties, got l1 penalty.\n",
      "\n",
      "  FitFailedWarning)\n",
      "C:\\ProgramData\\Anaconda3\\lib\\site-packages\\sklearn\\model_selection\\_validation.py:536: FitFailedWarning: Estimator fit failed. The score on this train-test partition for these parameters will be set to nan. Details: \n",
      "ValueError: Solver lbfgs supports only 'l2' or 'none' penalties, got l1 penalty.\n",
      "\n",
      "  FitFailedWarning)\n",
      "C:\\ProgramData\\Anaconda3\\lib\\site-packages\\sklearn\\model_selection\\_validation.py:536: FitFailedWarning: Estimator fit failed. The score on this train-test partition for these parameters will be set to nan. Details: \n",
      "ValueError: Solver newton-cg supports only 'l2' or 'none' penalties, got elasticnet penalty.\n",
      "\n",
      "  FitFailedWarning)\n",
      "C:\\ProgramData\\Anaconda3\\lib\\site-packages\\sklearn\\model_selection\\_validation.py:536: FitFailedWarning: Estimator fit failed. The score on this train-test partition for these parameters will be set to nan. Details: \n",
      "ValueError: Solver lbfgs supports only 'l2' or 'none' penalties, got elasticnet penalty.\n",
      "\n",
      "  FitFailedWarning)\n",
      "C:\\ProgramData\\Anaconda3\\lib\\site-packages\\sklearn\\model_selection\\_validation.py:536: FitFailedWarning: Estimator fit failed. The score on this train-test partition for these parameters will be set to nan. Details: \n",
      "ValueError: Only 'saga' solver supports elasticnet penalty, got solver=liblinear.\n",
      "\n",
      "  FitFailedWarning)\n",
      "C:\\ProgramData\\Anaconda3\\lib\\site-packages\\sklearn\\model_selection\\_validation.py:536: FitFailedWarning: Estimator fit failed. The score on this train-test partition for these parameters will be set to nan. Details: \n",
      "ValueError: Solver newton-cg supports only 'l2' or 'none' penalties, got l1 penalty.\n",
      "\n",
      "  FitFailedWarning)\n",
      "C:\\ProgramData\\Anaconda3\\lib\\site-packages\\sklearn\\model_selection\\_validation.py:536: FitFailedWarning: Estimator fit failed. The score on this train-test partition for these parameters will be set to nan. Details: \n",
      "ValueError: Solver lbfgs supports only 'l2' or 'none' penalties, got l1 penalty.\n",
      "\n",
      "  FitFailedWarning)\n",
      "C:\\ProgramData\\Anaconda3\\lib\\site-packages\\sklearn\\model_selection\\_validation.py:536: FitFailedWarning: Estimator fit failed. The score on this train-test partition for these parameters will be set to nan. Details: \n",
      "ValueError: Solver newton-cg supports only 'l2' or 'none' penalties, got elasticnet penalty.\n",
      "\n",
      "  FitFailedWarning)\n",
      "C:\\ProgramData\\Anaconda3\\lib\\site-packages\\sklearn\\model_selection\\_validation.py:536: FitFailedWarning: Estimator fit failed. The score on this train-test partition for these parameters will be set to nan. Details: \n",
      "ValueError: Solver lbfgs supports only 'l2' or 'none' penalties, got elasticnet penalty.\n",
      "\n",
      "  FitFailedWarning)\n",
      "C:\\ProgramData\\Anaconda3\\lib\\site-packages\\sklearn\\model_selection\\_validation.py:536: FitFailedWarning: Estimator fit failed. The score on this train-test partition for these parameters will be set to nan. Details: \n",
      "ValueError: Only 'saga' solver supports elasticnet penalty, got solver=liblinear.\n",
      "\n",
      "  FitFailedWarning)\n",
      "C:\\ProgramData\\Anaconda3\\lib\\site-packages\\sklearn\\model_selection\\_validation.py:536: FitFailedWarning: Estimator fit failed. The score on this train-test partition for these parameters will be set to nan. Details: \n",
      "ValueError: Solver newton-cg supports only 'l2' or 'none' penalties, got l1 penalty.\n",
      "\n",
      "  FitFailedWarning)\n",
      "C:\\ProgramData\\Anaconda3\\lib\\site-packages\\sklearn\\model_selection\\_validation.py:536: FitFailedWarning: Estimator fit failed. The score on this train-test partition for these parameters will be set to nan. Details: \n",
      "ValueError: Solver lbfgs supports only 'l2' or 'none' penalties, got l1 penalty.\n",
      "\n",
      "  FitFailedWarning)\n",
      "C:\\ProgramData\\Anaconda3\\lib\\site-packages\\sklearn\\model_selection\\_validation.py:536: FitFailedWarning: Estimator fit failed. The score on this train-test partition for these parameters will be set to nan. Details: \n",
      "ValueError: Solver newton-cg supports only 'l2' or 'none' penalties, got elasticnet penalty.\n",
      "\n",
      "  FitFailedWarning)\n",
      "C:\\ProgramData\\Anaconda3\\lib\\site-packages\\sklearn\\model_selection\\_validation.py:536: FitFailedWarning: Estimator fit failed. The score on this train-test partition for these parameters will be set to nan. Details: \n",
      "ValueError: Solver lbfgs supports only 'l2' or 'none' penalties, got elasticnet penalty.\n",
      "\n",
      "  FitFailedWarning)\n",
      "C:\\ProgramData\\Anaconda3\\lib\\site-packages\\sklearn\\model_selection\\_validation.py:536: FitFailedWarning: Estimator fit failed. The score on this train-test partition for these parameters will be set to nan. Details: \n",
      "ValueError: Only 'saga' solver supports elasticnet penalty, got solver=liblinear.\n",
      "\n",
      "  FitFailedWarning)\n"
     ]
    },
    {
     "data": {
      "text/plain": [
       "{'C': 100, 'penalty': 'l1', 'solver': 'liblinear'}"
      ]
     },
     "execution_count": 41,
     "metadata": {},
     "output_type": "execute_result"
    }
   ],
   "source": [
    "param_grid = {\n",
    "                'solver'  : ['newton-cg', 'lbfgs', 'liblinear'],\n",
    "                'penalty' : ['l1','l2','elasticnet'],\n",
    "                 'C'      : [100, 10, 1.0, 0.1, 0.01]   \n",
    "              }\n",
    "\n",
    "sp_gscv = GridSearchCV(LogisticRegression(), param_grid, cv=5,\n",
    "                       scoring='accuracy')\n",
    "sp_gscv.fit(X_train, y_train)\n",
    "sp_gscv.best_params_\n",
    "\n",
    "# best parameters reported: {'C': 100, 'penalty': 'l1', 'solver': 'liblinear'}\n"
   ]
  },
  {
   "cell_type": "markdown",
   "metadata": {},
   "source": [
    "# Train, Predict & Evaluate Logistic regression Model with tuned hyperparameters"
   ]
  },
  {
   "cell_type": "code",
   "execution_count": 42,
   "metadata": {},
   "outputs": [
    {
     "name": "stdout",
     "output_type": "stream",
     "text": [
      "Accuracy: 0.7959\n",
      "Precision: 0.7981\n",
      "Recall: 0.7959\n",
      "F1 Score: 0.7946\n"
     ]
    }
   ],
   "source": [
    "sp_gslr = LogisticRegression(C=100, penalty= 'l1', solver='liblinear')\n",
    "sp_gslr.fit(X_train, y_train)\n",
    "sp_gslr_predictions = sp_gslr.predict(X_test)\n",
    "get_metrics(true_labels=y_test_actual, predicted_labels=sp_gslr_predictions)"
   ]
  },
  {
   "cell_type": "markdown",
   "metadata": {},
   "source": [
    "No improvement is seen in model prediction performance for logistic regression, but it performed better than Decision tree."
   ]
  },
  {
   "cell_type": "markdown",
   "metadata": {},
   "source": [
    "# Data Story Summary"
   ]
  },
  {
   "cell_type": "markdown",
   "metadata": {},
   "source": [
    "1) Except \"Index\" and \"Severeity\" every other feature has missing data, with Age and Mass_density having more missing \n",
    "values respectively.\n",
    "\n",
    "2) Except \"Age\" and \"index\" all other are categorical variables. \"Index\" is irreleavnt for model prediction.\n",
    "\n",
    "3) \"Age\" variable seems to be normally distributed with couple of outliers.\n",
    "\n",
    "4) As per the problem statement \"BI_RADS\" is an ordinal categorical feature with 5 discrete values. But in the dataset \n",
    "it seems to have 7 discrete values 0,6 and 55. This may happen due to typos or data collection error. Instead of 5, user\n",
    "may have typed 55. 0 and 6 which should have been labelled as 1 might have been miss labelled. In real time we need to\n",
    "check this with data providers OR domain experts. \n",
    "                  It could be as well that data might be right, but the problem statment is wrong in which case we need\n",
    "to check with Business users.\n",
    "                            \"Severity\" is depndent on \"BI_RADS\", if its score is 5 then there are very high chances of\n",
    "having a cancer.\n",
    "\n",
    "5) \"Shape\" has 3 discrete values. If its value is 4 then there are very high chances of having a cancer.\n",
    "\n",
    "6) \"Margin\" has 5 discrete values. If its value is 5 then there are very high chances of having a cancer.\n",
    "\n",
    "7) \"Mass Density\" has 4 distinct values, majority of them are of category \"3\". Even though there seems to be an\n",
    "association with target, strength of the association dosent seems to be strong.\n",
    "\n",
    "8) \"AgeBand\" is strongly associated with \"Severity\". Higher age group are more prone to have cancer, with 85 years and above are \n",
    "certain to be diagonized with cancer."
   ]
  }
 ],
 "metadata": {
  "kernelspec": {
   "display_name": "Python 3",
   "language": "python",
   "name": "python3"
  },
  "language_info": {
   "codemirror_mode": {
    "name": "ipython",
    "version": 3
   },
   "file_extension": ".py",
   "mimetype": "text/x-python",
   "name": "python",
   "nbconvert_exporter": "python",
   "pygments_lexer": "ipython3",
   "version": "3.7.6"
  }
 },
 "nbformat": 4,
 "nbformat_minor": 4
}
