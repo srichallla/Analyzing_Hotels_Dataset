{
 "cells": [
  {
   "cell_type": "markdown",
   "metadata": {},
   "source": [
    "# Import necessary libraries"
   ]
  },
  {
   "cell_type": "code",
   "execution_count": 2,
   "metadata": {
    "collapsed": true
   },
   "outputs": [],
   "source": [
    "import pandas as pd\n",
    "import matplotlib.pyplot as plt\n",
    "import matplotlib as mpl\n",
    "import numpy as np\n",
    "import seaborn as sns\n",
    "\n",
    "%matplotlib inline"
   ]
  },
  {
   "cell_type": "markdown",
   "metadata": {},
   "source": [
    "# Load and understand dataset features\n"
   ]
  },
  {
   "cell_type": "code",
   "execution_count": 3,
   "metadata": {},
   "outputs": [
    {
     "name": "stdout",
     "output_type": "stream",
     "text": [
      "<class 'pandas.core.frame.DataFrame'>\n",
      "RangeIndex: 221069 entries, 0 to 221068\n",
      "Data columns (total 21 columns):\n",
      "room_id                 221069 non-null int64\n",
      "host_id                 221067 non-null float64\n",
      "room_type               221055 non-null object\n",
      "borough                 0 non-null float64\n",
      "neighborhood            221069 non-null object\n",
      "reviews                 221069 non-null int64\n",
      "overall_satisfaction    198025 non-null float64\n",
      "accommodates            219750 non-null float64\n",
      "bedrooms                220938 non-null float64\n",
      "price                   221057 non-null float64\n",
      "minstay                 63969 non-null float64\n",
      "latitude                221069 non-null float64\n",
      "longitude               221069 non-null float64\n",
      "last_modified           221069 non-null object\n",
      "date                    221069 non-null object\n",
      "survey_id               70756 non-null float64\n",
      "country                 0 non-null float64\n",
      "city                    70756 non-null object\n",
      "bathrooms               0 non-null float64\n",
      "name                    70588 non-null object\n",
      "location                70756 non-null object\n",
      "dtypes: float64(12), int64(2), object(7)\n",
      "memory usage: 35.4+ MB\n"
     ]
    },
    {
     "name": "stderr",
     "output_type": "stream",
     "text": [
      "D:\\Softwares\\Anaconda3\\lib\\site-packages\\IPython\\core\\interactiveshell.py:2698: DtypeWarning: Columns (17,19,20) have mixed types. Specify dtype option on import or set low_memory=False.\n",
      "  interactivity=interactivity, compiler=compiler, result=result)\n"
     ]
    }
   ],
   "source": [
    "df = pd.read_csv(\"bookings.csv\",encoding='latin1')\n",
    "df.info()"
   ]
  },
  {
   "cell_type": "code",
   "execution_count": 4,
   "metadata": {},
   "outputs": [
    {
     "data": {
      "text/html": [
       "<div>\n",
       "<style>\n",
       "    .dataframe thead tr:only-child th {\n",
       "        text-align: right;\n",
       "    }\n",
       "\n",
       "    .dataframe thead th {\n",
       "        text-align: left;\n",
       "    }\n",
       "\n",
       "    .dataframe tbody tr th {\n",
       "        vertical-align: top;\n",
       "    }\n",
       "</style>\n",
       "<table border=\"1\" class=\"dataframe\">\n",
       "  <thead>\n",
       "    <tr style=\"text-align: right;\">\n",
       "      <th></th>\n",
       "      <th>room_id</th>\n",
       "      <th>host_id</th>\n",
       "      <th>room_type</th>\n",
       "      <th>borough</th>\n",
       "      <th>neighborhood</th>\n",
       "      <th>reviews</th>\n",
       "      <th>overall_satisfaction</th>\n",
       "      <th>accommodates</th>\n",
       "      <th>bedrooms</th>\n",
       "      <th>price</th>\n",
       "      <th>...</th>\n",
       "      <th>latitude</th>\n",
       "      <th>longitude</th>\n",
       "      <th>last_modified</th>\n",
       "      <th>date</th>\n",
       "      <th>survey_id</th>\n",
       "      <th>country</th>\n",
       "      <th>city</th>\n",
       "      <th>bathrooms</th>\n",
       "      <th>name</th>\n",
       "      <th>location</th>\n",
       "    </tr>\n",
       "  </thead>\n",
       "  <tbody>\n",
       "    <tr>\n",
       "      <th>0</th>\n",
       "      <td>2818</td>\n",
       "      <td>3159.0</td>\n",
       "      <td>Private room</td>\n",
       "      <td>NaN</td>\n",
       "      <td>Oostelijk Havengebied / Indische Buurt</td>\n",
       "      <td>77</td>\n",
       "      <td>5.0</td>\n",
       "      <td>2.0</td>\n",
       "      <td>1.0</td>\n",
       "      <td>90.0</td>\n",
       "      <td>...</td>\n",
       "      <td>52.365755</td>\n",
       "      <td>4.941419</td>\n",
       "      <td>44:31.8</td>\n",
       "      <td>2014-05-24</td>\n",
       "      <td>NaN</td>\n",
       "      <td>NaN</td>\n",
       "      <td>NaN</td>\n",
       "      <td>NaN</td>\n",
       "      <td>NaN</td>\n",
       "      <td>NaN</td>\n",
       "    </tr>\n",
       "    <tr>\n",
       "      <th>1</th>\n",
       "      <td>6243</td>\n",
       "      <td>3813.0</td>\n",
       "      <td>Private room</td>\n",
       "      <td>NaN</td>\n",
       "      <td>Oostelijk Havengebied / Indische Buurt</td>\n",
       "      <td>116</td>\n",
       "      <td>4.5</td>\n",
       "      <td>4.0</td>\n",
       "      <td>1.0</td>\n",
       "      <td>75.0</td>\n",
       "      <td>...</td>\n",
       "      <td>52.379212</td>\n",
       "      <td>4.926324</td>\n",
       "      <td>16:02.5</td>\n",
       "      <td>2014-05-24</td>\n",
       "      <td>NaN</td>\n",
       "      <td>NaN</td>\n",
       "      <td>NaN</td>\n",
       "      <td>NaN</td>\n",
       "      <td>NaN</td>\n",
       "      <td>NaN</td>\n",
       "    </tr>\n",
       "    <tr>\n",
       "      <th>2</th>\n",
       "      <td>15061</td>\n",
       "      <td>59297.0</td>\n",
       "      <td>Private room</td>\n",
       "      <td>NaN</td>\n",
       "      <td>Westerpark</td>\n",
       "      <td>53</td>\n",
       "      <td>5.0</td>\n",
       "      <td>4.0</td>\n",
       "      <td>1.0</td>\n",
       "      <td>66.0</td>\n",
       "      <td>...</td>\n",
       "      <td>52.382685</td>\n",
       "      <td>4.876130</td>\n",
       "      <td>01:54.1</td>\n",
       "      <td>2014-05-24</td>\n",
       "      <td>NaN</td>\n",
       "      <td>NaN</td>\n",
       "      <td>NaN</td>\n",
       "      <td>NaN</td>\n",
       "      <td>NaN</td>\n",
       "      <td>NaN</td>\n",
       "    </tr>\n",
       "    <tr>\n",
       "      <th>3</th>\n",
       "      <td>15865</td>\n",
       "      <td>59484.0</td>\n",
       "      <td>Private room</td>\n",
       "      <td>NaN</td>\n",
       "      <td>Centrum Oost</td>\n",
       "      <td>1</td>\n",
       "      <td>5.0</td>\n",
       "      <td>4.0</td>\n",
       "      <td>1.0</td>\n",
       "      <td>151.0</td>\n",
       "      <td>...</td>\n",
       "      <td>52.363786</td>\n",
       "      <td>4.893392</td>\n",
       "      <td>52:07.5</td>\n",
       "      <td>2014-05-24</td>\n",
       "      <td>NaN</td>\n",
       "      <td>NaN</td>\n",
       "      <td>NaN</td>\n",
       "      <td>NaN</td>\n",
       "      <td>NaN</td>\n",
       "      <td>NaN</td>\n",
       "    </tr>\n",
       "    <tr>\n",
       "      <th>4</th>\n",
       "      <td>20168</td>\n",
       "      <td>59484.0</td>\n",
       "      <td>Private room</td>\n",
       "      <td>NaN</td>\n",
       "      <td>Centrum Oost</td>\n",
       "      <td>4</td>\n",
       "      <td>4.0</td>\n",
       "      <td>2.0</td>\n",
       "      <td>1.0</td>\n",
       "      <td>90.0</td>\n",
       "      <td>...</td>\n",
       "      <td>52.365087</td>\n",
       "      <td>4.893541</td>\n",
       "      <td>36:24.6</td>\n",
       "      <td>2014-05-24</td>\n",
       "      <td>NaN</td>\n",
       "      <td>NaN</td>\n",
       "      <td>NaN</td>\n",
       "      <td>NaN</td>\n",
       "      <td>NaN</td>\n",
       "      <td>NaN</td>\n",
       "    </tr>\n",
       "  </tbody>\n",
       "</table>\n",
       "<p>5 rows × 21 columns</p>\n",
       "</div>"
      ],
      "text/plain": [
       "   room_id  host_id     room_type  borough  \\\n",
       "0     2818   3159.0  Private room      NaN   \n",
       "1     6243   3813.0  Private room      NaN   \n",
       "2    15061  59297.0  Private room      NaN   \n",
       "3    15865  59484.0  Private room      NaN   \n",
       "4    20168  59484.0  Private room      NaN   \n",
       "\n",
       "                             neighborhood  reviews  overall_satisfaction  \\\n",
       "0  Oostelijk Havengebied / Indische Buurt       77                   5.0   \n",
       "1  Oostelijk Havengebied / Indische Buurt      116                   4.5   \n",
       "2                              Westerpark       53                   5.0   \n",
       "3                            Centrum Oost        1                   5.0   \n",
       "4                            Centrum Oost        4                   4.0   \n",
       "\n",
       "   accommodates  bedrooms  price   ...      latitude  longitude  \\\n",
       "0           2.0       1.0   90.0   ...     52.365755   4.941419   \n",
       "1           4.0       1.0   75.0   ...     52.379212   4.926324   \n",
       "2           4.0       1.0   66.0   ...     52.382685   4.876130   \n",
       "3           4.0       1.0  151.0   ...     52.363786   4.893392   \n",
       "4           2.0       1.0   90.0   ...     52.365087   4.893541   \n",
       "\n",
       "   last_modified        date survey_id  country  city bathrooms  name location  \n",
       "0        44:31.8  2014-05-24       NaN      NaN   NaN       NaN   NaN      NaN  \n",
       "1        16:02.5  2014-05-24       NaN      NaN   NaN       NaN   NaN      NaN  \n",
       "2        01:54.1  2014-05-24       NaN      NaN   NaN       NaN   NaN      NaN  \n",
       "3        52:07.5  2014-05-24       NaN      NaN   NaN       NaN   NaN      NaN  \n",
       "4        36:24.6  2014-05-24       NaN      NaN   NaN       NaN   NaN      NaN  \n",
       "\n",
       "[5 rows x 21 columns]"
      ]
     },
     "execution_count": 4,
     "metadata": {},
     "output_type": "execute_result"
    }
   ],
   "source": [
    "df.head()"
   ]
  },
  {
   "cell_type": "code",
   "execution_count": 5,
   "metadata": {
    "collapsed": true
   },
   "outputs": [],
   "source": [
    "df.drop(['borough','minstay','last_modified','survey_id','name','location','city','country','bathrooms'], axis=1,inplace=True)"
   ]
  },
  {
   "cell_type": "code",
   "execution_count": 6,
   "metadata": {},
   "outputs": [
    {
     "data": {
      "text/plain": [
       "(221069, 12)"
      ]
     },
     "execution_count": 6,
     "metadata": {},
     "output_type": "execute_result"
    }
   ],
   "source": [
    "df.shape"
   ]
  },
  {
   "cell_type": "code",
   "execution_count": 7,
   "metadata": {},
   "outputs": [
    {
     "data": {
      "text/plain": [
       "array(['room_id', 'host_id', 'room_type', 'neighborhood', 'reviews',\n",
       "       'overall_satisfaction', 'accommodates', 'bedrooms', 'price',\n",
       "       'latitude', 'longitude', 'date'], dtype=object)"
      ]
     },
     "execution_count": 7,
     "metadata": {},
     "output_type": "execute_result"
    }
   ],
   "source": [
    "df.columns.values"
   ]
  },
  {
   "cell_type": "markdown",
   "metadata": {},
   "source": [
    "# Exploratory Data Analysis\n"
   ]
  },
  {
   "cell_type": "code",
   "execution_count": 8,
   "metadata": {
    "collapsed": true
   },
   "outputs": [],
   "source": [
    "# Lets first merge the room_id and host_id and create a new feature 'hotel_id'. And then drop\n",
    "# those 2 features. Although its better to concatinate these two features. Here I am going to add them up.\n",
    "df['hotel_id'] = df['room_id'] + df['host_id']"
   ]
  },
  {
   "cell_type": "code",
   "execution_count": 9,
   "metadata": {},
   "outputs": [
    {
     "data": {
      "text/plain": [
       "182762"
      ]
     },
     "execution_count": 9,
     "metadata": {},
     "output_type": "execute_result"
    }
   ],
   "source": [
    "df.hotel_id.duplicated().sum() # There are 182762 duplicates. But are they really duplicates? No,\n",
    "# bcz a host can book same hotel multiple times"
   ]
  },
  {
   "cell_type": "code",
   "execution_count": 10,
   "metadata": {},
   "outputs": [
    {
     "data": {
      "text/plain": [
       "Text(0.5,1,'Accommodates')"
      ]
     },
     "execution_count": 10,
     "metadata": {},
     "output_type": "execute_result"
    },
    {
     "data": {
      "image/png": "[encoded data removed]",
      "text/plain": [
       "<matplotlib.figure.Figure at 0x1fe5d125518>"
      ]
     },
     "metadata": {},
     "output_type": "display_data"
    }
   ],
   "source": [
    "fig, axs = plt.subplots(1,3)\n",
    "sns.boxplot(x=df.price, ax=axs[0], orient=\"v\")\n",
    "sns.boxplot(x=df.bedrooms, ax=axs[1], orient=\"v\")\n",
    "sns.boxplot(x=df.accommodates, ax=axs[2], orient=\"v\")\n",
    "axs[0].set_title('Price')\n",
    "axs[1].set_title('Bedrooms')\n",
    "axs[2].set_title('Accommodates')"
   ]
  },
  {
   "cell_type": "code",
   "execution_count": 11,
   "metadata": {},
   "outputs": [
    {
     "data": {
      "text/plain": [
       "count    221057.000000\n",
       "mean        155.830247\n",
       "std         103.786595\n",
       "min          10.000000\n",
       "25%         102.000000\n",
       "50%         133.000000\n",
       "75%         180.000000\n",
       "max        9916.000000\n",
       "Name: price, dtype: float64"
      ]
     },
     "execution_count": 11,
     "metadata": {},
     "output_type": "execute_result"
    }
   ],
   "source": [
    "df.price.describe()"
   ]
  },
  {
   "cell_type": "code",
   "execution_count": 12,
   "metadata": {},
   "outputs": [
    {
     "data": {
      "text/plain": [
       "<matplotlib.axes._subplots.AxesSubplot at 0x1fe64e5a7b8>"
      ]
     },
     "execution_count": 12,
     "metadata": {},
     "output_type": "execute_result"
    },
    {
     "data": {
      "image/png": "[encoded data removed]",
      "text/plain": [
       "<matplotlib.figure.Figure at 0x1fe5af04710>"
      ]
     },
     "metadata": {},
     "output_type": "display_data"
    }
   ],
   "source": [
    "sns.boxplot(x=df.price,y=df.neighborhood)"
   ]
  },
  {
   "cell_type": "code",
   "execution_count": 13,
   "metadata": {
    "collapsed": true
   },
   "outputs": [],
   "source": [
    "q3 = df.price.quantile(.75)\n",
    "q1 = df.price.quantile(.25)\n",
    "iqr = q3 - q1\n",
    "lower_bound = q1 - (iqr * 1.5)\n",
    "upper_bound = q3 + (iqr * 1.5)\n",
    "#DF without outliers in price\n",
    "df = df[~((df.price > upper_bound) | (df.price < lower_bound))]"
   ]
  },
  {
   "cell_type": "code",
   "execution_count": 14,
   "metadata": {},
   "outputs": [
    {
     "data": {
      "text/plain": [
       "<matplotlib.axes._subplots.AxesSubplot at 0x1fe64e5a128>"
      ]
     },
     "execution_count": 14,
     "metadata": {},
     "output_type": "execute_result"
    },
    {
     "data": {
      "image/png": "[encoded data removed]",
      "text/plain": [
       "<matplotlib.figure.Figure at 0x1fe6244dc88>"
      ]
     },
     "metadata": {},
     "output_type": "display_data"
    }
   ],
   "source": [
    "sns.boxplot(x=df.price, orient=\"v\")\n",
    "#As you can see below there are no more outliers in Price"
   ]
  },
  {
   "cell_type": "code",
   "execution_count": 15,
   "metadata": {},
   "outputs": [
    {
     "data": {
      "text/plain": [
       "<matplotlib.axes._subplots.AxesSubplot at 0x1fe5ebbb4e0>"
      ]
     },
     "execution_count": 15,
     "metadata": {},
     "output_type": "execute_result"
    },
    {
     "data": {
      "image/png": "[encoded data removed]",
      "text/plain": [
       "<matplotlib.figure.Figure at 0x1fe62440b38>"
      ]
     },
     "metadata": {},
     "output_type": "display_data"
    }
   ],
   "source": [
    "df1 =  df.groupby(['neighborhood'],as_index=False).agg({'price':'mean'}).sort_values(by='price',ascending=False)\n",
    "df1 = df1[:15]\n",
    "sns.barplot(x=\"price\", y=\"neighborhood\", data=df1,\n",
    "            label=\"neighborhood\", color=\"b\")"
   ]
  },
  {
   "cell_type": "code",
   "execution_count": 16,
   "metadata": {},
   "outputs": [
    {
     "data": {
      "text/plain": [
       "<matplotlib.axes._subplots.AxesSubplot at 0x1fe5ea049b0>"
      ]
     },
     "execution_count": 16,
     "metadata": {},
     "output_type": "execute_result"
    },
    {
     "data": {
      "image/png": "[encoded data removed]",
      "text/plain": [
       "<matplotlib.figure.Figure at 0x1fe5f3e3e80>"
      ]
     },
     "metadata": {},
     "output_type": "display_data"
    }
   ],
   "source": [
    "neighborhood_map={'Centrum West':23,'Centrum Oost':22,'De Pijp / Rivierenbuurt':21,'Noord-West / Noord-Midden':20,\n",
    "                  'Ijburg / Eiland Zeeburg':19,'De Baarsjes / Oud West':18,'Westerpark':17,'Oud Oost':16,\n",
    "                  'Watergraafsmeer':15,'Buitenveldert / Zuidas':14,'Oostelijk Havengebied / Indische Buurt':13,\n",
    "                  'Oud Noord':12,'Noord Oost':11,'Bos en Lommer':10,'Westpoort':9,'Slotervaart':8,'Noord West':7,\n",
    "                  'De Aker / Nieuw Sloten':6,'Osdorp':5,'Geuzenveld / Slotermeer':4,\n",
    "                 'Gaasperdam / Driemond':3,'Bijlmer Oost':2,'Bijlmer Centrum':1}\n",
    "\n",
    "df['neighborhood_num'] = df.neighborhood.map(neighborhood_map)\n",
    "\n",
    "sns.regplot(x=df[\"neighborhood_num\"], y=df[\"price\"])"
   ]
  },
  {
   "cell_type": "code",
   "execution_count": 17,
   "metadata": {
    "collapsed": true
   },
   "outputs": [],
   "source": [
    "#Conver date object to datetime\n",
    "df['date'] =  pd.to_datetime(df['date'], format='%Y-%m-%d')\n",
    "#Extracting dayofweek from data time\n",
    "df['day_of_week'] = df['date'].dt.weekday_name\n",
    "#Map day_of_week to numbers with Monday=0, Sunday=6\n",
    "day_mapping = {'Monday':0,'Tuesday':1,'Wednesday':2,'Thursday':3,'Friday':4,'Saturday':5,'Sunday':6}\n",
    "df['day_of_week'] = df['day_of_week'].map(day_mapping)"
   ]
  },
  {
   "cell_type": "code",
   "execution_count": 18,
   "metadata": {},
   "outputs": [
    {
     "data": {
      "text/plain": [
       "<matplotlib.axes._subplots.AxesSubplot at 0x1fe5ea6a198>"
      ]
     },
     "execution_count": 18,
     "metadata": {},
     "output_type": "execute_result"
    },
    {
     "data": {
      "image/png": "[encoded data removed]",
      "text/plain": [
       "<matplotlib.figure.Figure at 0x1fe624226a0>"
      ]
     },
     "metadata": {},
     "output_type": "display_data"
    }
   ],
   "source": [
    "df1 = df.groupby(['day_of_week'],as_index=False).agg({'price':'mean'}).sort_values(by='price',ascending=False)\n",
    "sns.barplot(x=\"day_of_week\", y=\"price\", data=df1,\n",
    "            label=\"day_of_week\")"
   ]
  },
  {
   "cell_type": "code",
   "execution_count": 19,
   "metadata": {},
   "outputs": [
    {
     "data": {
      "text/plain": [
       "<matplotlib.axes._subplots.AxesSubplot at 0x1fe5d1711d0>"
      ]
     },
     "execution_count": 19,
     "metadata": {},
     "output_type": "execute_result"
    },
    {
     "data": {
      "image/png": "[encoded data removed]",
      "text/plain": [
       "<matplotlib.figure.Figure at 0x1fe62458cf8>"
      ]
     },
     "metadata": {},
     "output_type": "display_data"
    }
   ],
   "source": [
    "corrMatt = df[[\"bedrooms\",\"reviews\",\"overall_satisfaction\",\"price\",\"neighborhood_num\",\"accommodates\"]].corr()\n",
    "mask = np.array(corrMatt)\n",
    "mask[np.tril_indices_from(mask)] = False\n",
    "sns.heatmap(corrMatt, mask=mask,\n",
    "           vmax=.8, square=True,annot=True)"
   ]
  },
  {
   "cell_type": "code",
   "execution_count": 20,
   "metadata": {},
   "outputs": [
    {
     "data": {
      "text/html": [
       "<div>\n",
       "<style>\n",
       "    .dataframe thead tr:only-child th {\n",
       "        text-align: right;\n",
       "    }\n",
       "\n",
       "    .dataframe thead th {\n",
       "        text-align: left;\n",
       "    }\n",
       "\n",
       "    .dataframe tbody tr th {\n",
       "        vertical-align: top;\n",
       "    }\n",
       "</style>\n",
       "<table border=\"1\" class=\"dataframe\">\n",
       "  <thead>\n",
       "    <tr style=\"text-align: right;\">\n",
       "      <th></th>\n",
       "      <th>hotel_id</th>\n",
       "      <th>neighborhood_num</th>\n",
       "      <th>reviews</th>\n",
       "      <th>overall_satisfaction</th>\n",
       "      <th>price</th>\n",
       "    </tr>\n",
       "  </thead>\n",
       "  <tbody>\n",
       "    <tr>\n",
       "      <th>0</th>\n",
       "      <td>5977.0</td>\n",
       "      <td>13</td>\n",
       "      <td>2552</td>\n",
       "      <td>5.000000</td>\n",
       "      <td>79.625000</td>\n",
       "    </tr>\n",
       "    <tr>\n",
       "      <th>1</th>\n",
       "      <td>7015.0</td>\n",
       "      <td>17</td>\n",
       "      <td>227</td>\n",
       "      <td>4.583333</td>\n",
       "      <td>110.750000</td>\n",
       "    </tr>\n",
       "    <tr>\n",
       "      <th>2</th>\n",
       "      <td>10056.0</td>\n",
       "      <td>13</td>\n",
       "      <td>242</td>\n",
       "      <td>4.500000</td>\n",
       "      <td>73.500000</td>\n",
       "    </tr>\n",
       "    <tr>\n",
       "      <th>3</th>\n",
       "      <td>25712.0</td>\n",
       "      <td>15</td>\n",
       "      <td>49</td>\n",
       "      <td>4.666667</td>\n",
       "      <td>80.666667</td>\n",
       "    </tr>\n",
       "    <tr>\n",
       "      <th>4</th>\n",
       "      <td>29730.0</td>\n",
       "      <td>18</td>\n",
       "      <td>42</td>\n",
       "      <td>5.000000</td>\n",
       "      <td>144.111111</td>\n",
       "    </tr>\n",
       "  </tbody>\n",
       "</table>\n",
       "</div>"
      ],
      "text/plain": [
       "   hotel_id  neighborhood_num  reviews  overall_satisfaction       price\n",
       "0    5977.0                13     2552              5.000000   79.625000\n",
       "1    7015.0                17      227              4.583333  110.750000\n",
       "2   10056.0                13      242              4.500000   73.500000\n",
       "3   25712.0                15       49              4.666667   80.666667\n",
       "4   29730.0                18       42              5.000000  144.111111"
      ]
     },
     "execution_count": 20,
     "metadata": {},
     "output_type": "execute_result"
    }
   ],
   "source": [
    "df1 = df.groupby(['hotel_id','neighborhood_num'],as_index=False).agg({'reviews':'sum','overall_satisfaction':'mean','price':'mean'})\n",
    "df.duplicated(subset=['hotel_id','neighborhood_num']).sum() # has 169964 duplicates\n",
    "#Lets drop duplicates\n",
    "df_uniq_hotels = df.drop_duplicates(subset=['hotel_id','neighborhood_num'])\n",
    "df1.head()"
   ]
  },
  {
   "cell_type": "code",
   "execution_count": 22,
   "metadata": {},
   "outputs": [
    {
     "data": {
      "text/html": [
       "<div>\n",
       "<style>\n",
       "    .dataframe thead tr:only-child th {\n",
       "        text-align: right;\n",
       "    }\n",
       "\n",
       "    .dataframe thead th {\n",
       "        text-align: left;\n",
       "    }\n",
       "\n",
       "    .dataframe tbody tr th {\n",
       "        vertical-align: top;\n",
       "    }\n",
       "</style>\n",
       "<table border=\"1\" class=\"dataframe\">\n",
       "  <thead>\n",
       "    <tr style=\"text-align: right;\">\n",
       "      <th></th>\n",
       "      <th>room_id</th>\n",
       "      <th>host_id</th>\n",
       "      <th>room_type</th>\n",
       "      <th>neighborhood</th>\n",
       "      <th>reviews</th>\n",
       "      <th>overall_satisfaction</th>\n",
       "      <th>accommodates</th>\n",
       "      <th>bedrooms</th>\n",
       "      <th>price</th>\n",
       "      <th>latitude</th>\n",
       "      <th>longitude</th>\n",
       "      <th>date</th>\n",
       "      <th>hotel_id</th>\n",
       "      <th>neighborhood_num</th>\n",
       "      <th>day_of_week</th>\n",
       "    </tr>\n",
       "  </thead>\n",
       "  <tbody>\n",
       "    <tr>\n",
       "      <th>0</th>\n",
       "      <td>2818</td>\n",
       "      <td>3159.0</td>\n",
       "      <td>Private room</td>\n",
       "      <td>Oostelijk Havengebied / Indische Buurt</td>\n",
       "      <td>77</td>\n",
       "      <td>5.0</td>\n",
       "      <td>2.0</td>\n",
       "      <td>1.0</td>\n",
       "      <td>90.0</td>\n",
       "      <td>52.365755</td>\n",
       "      <td>4.941419</td>\n",
       "      <td>2014-05-24</td>\n",
       "      <td>5977.0</td>\n",
       "      <td>13</td>\n",
       "      <td>5</td>\n",
       "    </tr>\n",
       "    <tr>\n",
       "      <th>1</th>\n",
       "      <td>6243</td>\n",
       "      <td>3813.0</td>\n",
       "      <td>Private room</td>\n",
       "      <td>Oostelijk Havengebied / Indische Buurt</td>\n",
       "      <td>116</td>\n",
       "      <td>4.5</td>\n",
       "      <td>4.0</td>\n",
       "      <td>1.0</td>\n",
       "      <td>75.0</td>\n",
       "      <td>52.379212</td>\n",
       "      <td>4.926324</td>\n",
       "      <td>2014-05-24</td>\n",
       "      <td>10056.0</td>\n",
       "      <td>13</td>\n",
       "      <td>5</td>\n",
       "    </tr>\n",
       "    <tr>\n",
       "      <th>2</th>\n",
       "      <td>15061</td>\n",
       "      <td>59297.0</td>\n",
       "      <td>Private room</td>\n",
       "      <td>Westerpark</td>\n",
       "      <td>53</td>\n",
       "      <td>5.0</td>\n",
       "      <td>4.0</td>\n",
       "      <td>1.0</td>\n",
       "      <td>66.0</td>\n",
       "      <td>52.382685</td>\n",
       "      <td>4.876130</td>\n",
       "      <td>2014-05-24</td>\n",
       "      <td>74358.0</td>\n",
       "      <td>17</td>\n",
       "      <td>5</td>\n",
       "    </tr>\n",
       "    <tr>\n",
       "      <th>3</th>\n",
       "      <td>15865</td>\n",
       "      <td>59484.0</td>\n",
       "      <td>Private room</td>\n",
       "      <td>Centrum Oost</td>\n",
       "      <td>1</td>\n",
       "      <td>5.0</td>\n",
       "      <td>4.0</td>\n",
       "      <td>1.0</td>\n",
       "      <td>151.0</td>\n",
       "      <td>52.363786</td>\n",
       "      <td>4.893392</td>\n",
       "      <td>2014-05-24</td>\n",
       "      <td>75349.0</td>\n",
       "      <td>22</td>\n",
       "      <td>5</td>\n",
       "    </tr>\n",
       "    <tr>\n",
       "      <th>4</th>\n",
       "      <td>20168</td>\n",
       "      <td>59484.0</td>\n",
       "      <td>Private room</td>\n",
       "      <td>Centrum Oost</td>\n",
       "      <td>4</td>\n",
       "      <td>4.0</td>\n",
       "      <td>2.0</td>\n",
       "      <td>1.0</td>\n",
       "      <td>90.0</td>\n",
       "      <td>52.365087</td>\n",
       "      <td>4.893541</td>\n",
       "      <td>2014-05-24</td>\n",
       "      <td>79652.0</td>\n",
       "      <td>22</td>\n",
       "      <td>5</td>\n",
       "    </tr>\n",
       "  </tbody>\n",
       "</table>\n",
       "</div>"
      ],
      "text/plain": [
       "   room_id  host_id     room_type                            neighborhood  \\\n",
       "0     2818   3159.0  Private room  Oostelijk Havengebied / Indische Buurt   \n",
       "1     6243   3813.0  Private room  Oostelijk Havengebied / Indische Buurt   \n",
       "2    15061  59297.0  Private room                              Westerpark   \n",
       "3    15865  59484.0  Private room                            Centrum Oost   \n",
       "4    20168  59484.0  Private room                            Centrum Oost   \n",
       "\n",
       "   reviews  overall_satisfaction  accommodates  bedrooms  price   latitude  \\\n",
       "0       77                   5.0           2.0       1.0   90.0  52.365755   \n",
       "1      116                   4.5           4.0       1.0   75.0  52.379212   \n",
       "2       53                   5.0           4.0       1.0   66.0  52.382685   \n",
       "3        1                   5.0           4.0       1.0  151.0  52.363786   \n",
       "4        4                   4.0           2.0       1.0   90.0  52.365087   \n",
       "\n",
       "   longitude       date  hotel_id  neighborhood_num  day_of_week  \n",
       "0   4.941419 2014-05-24    5977.0                13            5  \n",
       "1   4.926324 2014-05-24   10056.0                13            5  \n",
       "2   4.876130 2014-05-24   74358.0                17            5  \n",
       "3   4.893392 2014-05-24   75349.0                22            5  \n",
       "4   4.893541 2014-05-24   79652.0                22            5  "
      ]
     },
     "execution_count": 22,
     "metadata": {},
     "output_type": "execute_result"
    }
   ],
   "source": [
    "df_uniq_hotels.head()"
   ]
  },
  {
   "cell_type": "code",
   "execution_count": 23,
   "metadata": {},
   "outputs": [
    {
     "data": {
      "text/plain": [
       "(37183, 13)"
      ]
     },
     "execution_count": 23,
     "metadata": {},
     "output_type": "execute_result"
    }
   ],
   "source": [
    "# Delete unwanted columns as we no longer need 'latitude','longitude' as we have neighbourhood. Also as we\n",
    "# extracted \"day_of_week\" lets delete \"date\". \n",
    "df_uniq_hotels = df_uniq_hotels.drop(['room_id','host_id','latitude','longitude','date'],axis=1)\n",
    "\n",
    "#Replace the original values of price,overallsatisfaction with mean values and place it in new merged dataframe.\n",
    "df_subset = pd.merge(df_uniq_hotels,df1, how='right',on=['hotel_id','neighborhood_num'])\n",
    "df_subset.shape"
   ]
  },
  {
   "cell_type": "code",
   "execution_count": 24,
   "metadata": {},
   "outputs": [
    {
     "data": {
      "text/plain": [
       "array(['room_type', 'neighborhood', 'reviews_x', 'overall_satisfaction_x',\n",
       "       'accommodates', 'bedrooms', 'price_x', 'hotel_id',\n",
       "       'neighborhood_num', 'day_of_week', 'reviews_y',\n",
       "       'overall_satisfaction_y', 'price_y'], dtype=object)"
      ]
     },
     "execution_count": 24,
     "metadata": {},
     "output_type": "execute_result"
    }
   ],
   "source": [
    "df_subset.columns.values"
   ]
  },
  {
   "cell_type": "code",
   "execution_count": 25,
   "metadata": {
    "collapsed": true
   },
   "outputs": [],
   "source": [
    "# Lets drop original values like price_x etc and keep aggreated ones and themn rename few column names. \n",
    "df_subset = df_subset.drop(['price_x','overall_satisfaction_x','reviews_x'],axis=1)\n",
    "df_subset = df_subset.rename(columns={'reviews_y' : 'reviews','overall_satisfaction_y' : 'satisfaction',\n",
    "                                      'price_y' : 'price'},copy=False)\n"
   ]
  },
  {
   "cell_type": "code",
   "execution_count": 26,
   "metadata": {},
   "outputs": [
    {
     "data": {
      "text/plain": [
       "<matplotlib.axes._subplots.AxesSubplot at 0x1fe5d22d6a0>"
      ]
     },
     "execution_count": 26,
     "metadata": {},
     "output_type": "execute_result"
    },
    {
     "data": {
      "image/png": "[encoded data removed]",
      "text/plain": [
       "<matplotlib.figure.Figure at 0x1fe5ea1ec88>"
      ]
     },
     "metadata": {},
     "output_type": "display_data"
    }
   ],
   "source": [
    "sns.pointplot(x=df_subset[\"neighborhood_num\"], y=df_subset[\"price\"])"
   ]
  },
  {
   "cell_type": "code",
   "execution_count": 27,
   "metadata": {},
   "outputs": [
    {
     "data": {
      "text/plain": [
       "<matplotlib.axes._subplots.AxesSubplot at 0x1fe5d2ec160>"
      ]
     },
     "execution_count": 27,
     "metadata": {},
     "output_type": "execute_result"
    },
    {
     "data": {
      "image/png": "[encoded data removed]",
      "text/plain": [
       "<matplotlib.figure.Figure at 0x1fe5d97f2b0>"
      ]
     },
     "metadata": {},
     "output_type": "display_data"
    }
   ],
   "source": [
    "corrMatt_subset = df_subset[[\"bedrooms\",\"reviews\",\"satisfaction\",\"price\",\"neighborhood_num\",\"accommodates\"]].corr()\n",
    "subset_mask = np.array(corrMatt_subset)\n",
    "subset_mask[np.tril_indices_from(subset_mask)] = False\n",
    "sns.heatmap(corrMatt_subset, mask=subset_mask,\n",
    "           vmax=.8, square=True,annot=True)"
   ]
  },
  {
   "cell_type": "code",
   "execution_count": 28,
   "metadata": {},
   "outputs": [
    {
     "data": {
      "text/plain": [
       "<matplotlib.axes._subplots.AxesSubplot at 0x1fe5e784400>"
      ]
     },
     "execution_count": 28,
     "metadata": {},
     "output_type": "execute_result"
    },
    {
     "data": {
      "image/png": "[encoded data removed]",
      "text/plain": [
       "<matplotlib.figure.Figure at 0x1fe5e7b1710>"
      ]
     },
     "metadata": {},
     "output_type": "display_data"
    }
   ],
   "source": [
    "df1 = df_subset.groupby('room_type',as_index=False).agg({'price':'mean'}).sort_values(by='price',ascending=False)\n",
    "sns.barplot(x=\"price\", y=\"room_type\", data=df1,\n",
    "            label=\"room_type\")"
   ]
  },
  {
   "cell_type": "code",
   "execution_count": 29,
   "metadata": {},
   "outputs": [
    {
     "data": {
      "text/html": [
       "<div>\n",
       "<style>\n",
       "    .dataframe thead tr:only-child th {\n",
       "        text-align: right;\n",
       "    }\n",
       "\n",
       "    .dataframe thead th {\n",
       "        text-align: left;\n",
       "    }\n",
       "\n",
       "    .dataframe tbody tr th {\n",
       "        vertical-align: top;\n",
       "    }\n",
       "</style>\n",
       "<table border=\"1\" class=\"dataframe\">\n",
       "  <thead>\n",
       "    <tr style=\"text-align: right;\">\n",
       "      <th></th>\n",
       "      <th>price</th>\n",
       "      <th>roomtype_num</th>\n",
       "    </tr>\n",
       "  </thead>\n",
       "  <tbody>\n",
       "    <tr>\n",
       "      <th>price</th>\n",
       "      <td>1.000000</td>\n",
       "      <td>0.430828</td>\n",
       "    </tr>\n",
       "    <tr>\n",
       "      <th>roomtype_num</th>\n",
       "      <td>0.430828</td>\n",
       "      <td>1.000000</td>\n",
       "    </tr>\n",
       "  </tbody>\n",
       "</table>\n",
       "</div>"
      ],
      "text/plain": [
       "                 price  roomtype_num\n",
       "price         1.000000      0.430828\n",
       "roomtype_num  0.430828      1.000000"
      ]
     },
     "execution_count": 29,
     "metadata": {},
     "output_type": "execute_result"
    }
   ],
   "source": [
    "roomtype_to_numeric = {'Entire home/apt':3,'Private room':2,'Shared room':1,}\n",
    "\n",
    "df_subset['roomtype_num'] = df_subset.room_type.map(roomtype_to_numeric)\n",
    "\n",
    "df_subset[[\"price\",'roomtype_num']].corr()"
   ]
  },
  {
   "cell_type": "code",
   "execution_count": 30,
   "metadata": {},
   "outputs": [
    {
     "data": {
      "text/plain": [
       "(37183, 10)"
      ]
     },
     "execution_count": 30,
     "metadata": {},
     "output_type": "execute_result"
    }
   ],
   "source": [
    "# Lets drop the \"room_type\"\n",
    "df_subset = df_subset.drop(['room_type'],axis=1)\n",
    "df_subset.shape"
   ]
  },
  {
   "cell_type": "code",
   "execution_count": 32,
   "metadata": {},
   "outputs": [
    {
     "data": {
      "text/plain": [
       "<matplotlib.axes._subplots.AxesSubplot at 0x1fe5d20c7b8>"
      ]
     },
     "execution_count": 32,
     "metadata": {},
     "output_type": "execute_result"
    },
    {
     "data": {
      "image/png": "[encoded data removed]",
      "text/plain": [
       "<matplotlib.figure.Figure at 0x1fe5d130f98>"
      ]
     },
     "metadata": {},
     "output_type": "display_data"
    }
   ],
   "source": [
    "# Filtering out null samples with null price\n",
    "df_subset = df_subset[~df_subset.price.isnull()]\n",
    "# Type casting price from float to int\n",
    "df_subset.price.astype(int)\n",
    "\n",
    "sns.distplot(df_subset['price'], bins=20)"
   ]
  }
 ],
 "metadata": {
  "kernelspec": {
   "display_name": "Python 3",
   "language": "python",
   "name": "python3"
  },
  "language_info": {
   "codemirror_mode": {
    "name": "ipython",
    "version": 3
   },
   "file_extension": ".py",
   "mimetype": "text/x-python",
   "name": "python",
   "nbconvert_exporter": "python",
   "pygments_lexer": "ipython3",
   "version": "3.6.3"
  }
 },
 "nbformat": 4,
 "nbformat_minor": 2
}
